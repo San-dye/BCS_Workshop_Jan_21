{
  "nbformat": 4,
  "nbformat_minor": 0,
  "metadata": {
    "kernelspec": {
      "display_name": "Python 3",
      "language": "python",
      "name": "python3"
    },
    "language_info": {
      "codemirror_mode": {
        "name": "ipython",
        "version": 3
      },
      "file_extension": ".py",
      "mimetype": "text/x-python",
      "name": "python",
      "nbconvert_exporter": "python",
      "pygments_lexer": "ipython3",
      "version": "3.7.7"
    },
    "colab": {
      "name": "Python Basics.ipynb",
      "provenance": [],
      "collapsed_sections": []
    }
  },
  "cells": [
    {
      "cell_type": "markdown",
      "metadata": {
        "id": "vIt0tG14OTQ_"
      },
      "source": [
        "# Python Basics"
      ]
    },
    {
      "cell_type": "markdown",
      "metadata": {
        "id": "KRDL-ATsOTRF"
      },
      "source": [
        "---\n",
        "## Tutorial objectives\n",
        "You are going to use Python skills to advance your understanding of neuroscience. Just like two legs that support and strengthen each other. One has \"Python\" written in it, and the other has \"Neuro\". And step-by-step they go.\n",
        "\n",
        "In this notebook, we'll practice basic operations with Python variables, control flow, plotting, and a sneak peek at `np.array`, the workhorse of scientific computation in Python. \n",
        "\n",
        "Each new concept in Python will unlock a different aspect of our implementation of a **Leaky Integrate-and-Fire (LIF)** neuron. And as if it couldn't get any better, we'll visualize the evolution of its membrane potential in time, and extract its statistical properties! \n",
        "\n",
        "Note:- Whenever you get stuck at any function, you can just google the function and you will find the official documentation of that function and there you can go through the arguments and figure out how to complete the corresponding code.\n",
        "\n",
        "Well then, let's start our walk today!\n",
        "\n",
        "Aknowledgment:- This notebook has been made with the help of the notebooks by *Neuromatch Academy*."
      ]
    },
    {
      "cell_type": "markdown",
      "metadata": {
        "id": "7ajxvz3JOTRF"
      },
      "source": [
        "---\n",
        "## Imports and helper functions\n",
        "Please execute the cell(s) below to initialize the notebook environment."
      ]
    },
    {
      "cell_type": "code",
      "metadata": {
        "cellView": "both",
        "id": "CWViVn99OTRG"
      },
      "source": [
        "# Import libraries\n",
        "import numpy as np\n",
        "import matplotlib.pyplot as plt\n",
        "from IPython.display import YouTubeVideo"
      ],
      "execution_count": null,
      "outputs": []
    },
    {
      "cell_type": "markdown",
      "metadata": {
        "id": "uyHP7n21OTRG"
      },
      "source": [
        "---\n",
        "## Neuron model\n",
        "A *leaky-integrate-and-fire (LIF)* neuron is defined by the following *membrane equation* and *reset condition*:\n",
        "\n",
        "\n",
        "\\begin{align*}\n",
        "\\\\\n",
        "&\\tau_m\\,\\frac{d}{dt}\\,V(t) = E_{L} - V(t) + R\\,I(t) &\\text{if }\\quad V(t) \\leq V_{th}\\\\\n",
        "\\\\\n",
        "&V(t) = V_{reset} &\\text{otherwise}\\\\\n",
        "\\\\\n",
        "\\end{align*}\n",
        "\n",
        "where $V(t)$ is the membrane potential, $\\tau_m$ is the membrane time constant, $E_{L}$ is the leak potential, $R$ is the membrane resistance, $I(t)$ is the synaptic input current, $V_{th}$ is the firing threshold, and $V_{reset}$ is the reset voltage. We can also write $V_m$ for membrane potential - very convenient for plot labels.\n",
        "\n",
        "The membrane equation is an *ordinary differential equation (ODE)* that describes the time evolution of membrane potential $V(t)$ in response to synaptic input and leaking of change across the cell membrane.\n",
        "\n",
        "**Note that, in this tutorial the neuron model will not implement a spiking mechanism.**"
      ]
    },
    {
      "cell_type": "code",
      "metadata": {
        "id": "VTMVukpyOTRG"
      },
      "source": [
        "# @title Video: Synaptic input\n",
        "video = YouTubeVideo(id='UP8rD2AwceM', width=854, height=480, fs=1)\n",
        "print(\"Video available at https://youtube.com/watch?v=\" + video.id)\n",
        "video"
      ],
      "execution_count": null,
      "outputs": []
    },
    {
      "cell_type": "code",
      "metadata": {
        "cellView": "code",
        "id": "Ay27DAZ6OTRH"
      },
      "source": [
        "# the stimulation parameters have been defined below\n",
        "t_max = 150e-3   # second\n",
        "dt = 1e-3        # second\n",
        "tau = 20e-3      # second\n",
        "el = -60e-3      # milivolt\n",
        "vr = -70e-3      # milivolt\n",
        "vth = -50e-3     # milivolt\n",
        "r = 100e6        # ohm\n",
        "i_mean = 25e-11  # ampere\n",
        "\n",
        "print(t_max, dt, tau, el, vr, vth, r, i_mean)"
      ],
      "execution_count": null,
      "outputs": []
    },
    {
      "cell_type": "markdown",
      "metadata": {
        "id": "1PpUUutoOTRH"
      },
      "source": [
        "### Exercise 1\n",
        "![synaptic input](https://github.com/mpbrigham/colaboratory-figures/raw/master/nma/python-for-nma/synaptic_input.png)\n",
        "\n",
        "We start with a sinusoidal model, with a shift from origin, to simulate the synaptic input $I(t)$ given by:\n",
        "\\begin{align*}\n",
        "\\\\\n",
        "I(t)=I_{mean}\\left(1+\\sin\\left(\\frac{2 \\pi}{0.01}\\,t\\right)\\right)\\\\\n",
        "\\\\\n",
        "\\end{align*}\n",
        "\n",
        "Compute and print the values of synaptic input $I(t)$ between $t=0$ and $t=0.009$ with step $\\Delta t=0.001$.\n",
        "\n",
        "\n",
        "We will write a `for` loop from scratch in this exercise. The following three formulations are all equivalent and loop for three steps:\n",
        "```\n",
        "1.  for step in [0, 1, 2]:\n",
        "      print(step)\n",
        "\n",
        "2.  for step in range(3):\n",
        "      print(step)\n",
        "\n",
        "3.  start = 0\n",
        "    end = 3\n",
        "    stepsize = 1\n",
        "\n",
        "    for step in range(start, end, stepsize):\n",
        "       print(step)\n",
        "```\n",
        "\n",
        "**Suggestions**\n",
        "* Loop variable `step` for 10 steps (`step` takes values from `0` to `9`)\n",
        "* At each time step\n",
        "    * Compute the value of `t` with variables `step` and `dt`\n",
        "    * Compute the value of `i`\n",
        "    * Print `i`\n",
        "* Use `np.pi` and `np.sin` for evaluating $\\pi$ and $\\sin(\\cdot)$, respectively\n"
      ]
    },
    {
      "cell_type": "code",
      "metadata": {
        "id": "Vw42EwDpOTRH"
      },
      "source": [
        "# initialize t to zero\n",
        "t = 0\n",
        "\n",
        "# loop for 10 steps, variable 'step' takes values from 0 to 9\n",
        "for step in range(10):\n",
        "  t = step * dt\n",
        "  i = #----Write Your Code Here----\n",
        "  print(i)"
      ],
      "execution_count": null,
      "outputs": []
    },
    {
      "cell_type": "markdown",
      "metadata": {
        "id": "8qxIQ7VDOTRH"
      },
      "source": [
        "## ODE integration without spikes\n",
        "Now we can write the previous equation in the following form:- \n",
        "\n",
        "\\begin{align*}\n",
        "\\\\\n",
        "&\\tau_m\\,\\lim_{\\Delta t \\to 0}{\\frac{V\\left(t+\\Delta t\\right)-V\\left(t\\right)}{\\Delta t}} = E_{L} - V(t) + R\\,I(t)\\\\\n",
        "&\\implies V(t+\\Delta t) = V(t) + \\frac{\\Delta t}{\\tau_m}(E_{L} - V(t) + R\\,I(t))\\\\ \n",
        "\\\\\n",
        "\\end{align*}\n",
        "\n",
        "For sufficiently *small enough* values of $\\Delta t$, we can estimate the value of membrane potential $V\\left(t+\\Delta t\\right)$ using its previous value $V(t)$ by simple algebraic manipulation. \n",
        "\n",
        "This provides a good approximation of the continuous-time integration. This operation is an integration since we obtain a sequence $\\{V(t), V(t+\\Delta t), V(t+2\\Delta t),...\\}$ starting from the ODE. For the evolution of $V(t)$ we need to integrate the ODE, and in this tutorial, we will do a discrete-time integration using the Euler method. In the next exercises, we will simulate the evolution of the membrane equation in discrete time steps, with a sufficiently small $\\Delta t$."
      ]
    },
    {
      "cell_type": "code",
      "metadata": {
        "id": "Z5qXHRTQOTRI"
      },
      "source": [
        "# @title Video: Discrete time integration\n",
        "video = YouTubeVideo(id='kyCbeR28AYQ', width=854, height=480, fs=1)\n",
        "print(\"Video available at https://youtube.com/watch?v=\" + video.id)\n",
        "video"
      ],
      "execution_count": null,
      "outputs": []
    },
    {
      "cell_type": "markdown",
      "metadata": {
        "id": "cNcnwCSqOTRI"
      },
      "source": [
        "### Exercise 2\n",
        "Compute the values of $V(t)$ between $t=0$ and $t=0.01$ with step $\\Delta t=0.001$ and $V(0)=E_L$.\n",
        "\n",
        "\n",
        "**Suggestions**\n",
        "* Reorganize the Eq. (1) to isolate $V\\left(t+\\Delta t\\right)$ on the left side, and express it as function of $V(t)$ and the other terms\n",
        "* Initialize the membrane potential variable `v` to leak potential `el`\n",
        "* Loop variable `step` for `10` steps\n",
        "* At each time step\n",
        "    * Compute the current value of `t`, `i`\n",
        "    * Print the current value of `t` and `v`\n",
        "    * Update the value of `v`\n",
        "    "
      ]
    },
    {
      "cell_type": "code",
      "metadata": {
        "scrolled": true,
        "id": "0HPtl1KzOTRI"
      },
      "source": [
        "# initialize step_end and v\n",
        "step_end = 10\n",
        "v = el\n",
        "\n",
        "# loop for step_end steps\n",
        "for step in range(step_end):\n",
        "  t = step * dt\n",
        "  i = #----Write Your Code Here----\n",
        "  print(f\"{t:.3f} {v:.4e}\")\n",
        "  v = #----Write Your Code Here----"
      ],
      "execution_count": null,
      "outputs": []
    },
    {
      "cell_type": "code",
      "metadata": {
        "id": "BJLYi_Q4OTRK"
      },
      "source": [
        "# @title Video: Plotting\n",
        "from IPython.display import YouTubeVideo\n",
        "video = YouTubeVideo(id='BOh8CsuTFkY', width=854, height=480, fs=1)\n",
        "print(\"Video available at https://youtube.com/watch?v=\" + video.id)\n",
        "video"
      ],
      "execution_count": null,
      "outputs": []
    },
    {
      "cell_type": "markdown",
      "metadata": {
        "id": "MVtcXGlwOTRK"
      },
      "source": [
        "### Exercise 3\n",
        "![synaptic input discrete](https://github.com/mpbrigham/colaboratory-figures/raw/master/nma/python-for-nma/synaptic_input_discrete.png)\n",
        "\n",
        "Plot the values of $I(t)$ between $t=0$ and $t=0.024$.\n",
        "\n",
        "**Suggestions**\n",
        "* Initialize `step_end`\n",
        "* initialize the figure with `plt.figure()`, set title, x and y labels with `plt.title()`, `plt.xlabel()` and `plt.ylabel()`, respectively\n",
        "* Replace printing command `print()` with plotting command `plt.plot()` with argument `'ko'` (short version for `color='k'` and `marker='o'`) for black small dots\n",
        "* Use `plt.show()` at the end to display the plot"
      ]
    },
    {
      "cell_type": "code",
      "metadata": {
        "id": "MHwhnS9sOTRL"
      },
      "source": [
        "# initialize step_end\n",
        "step_end = 25\n",
        "with plt.xkcd():\n",
        "    # initialize the figure\n",
        "    plt.figure(figsize=(10,5))\n",
        "    plt.title(#----Write Your Code Here----)\n",
        "    plt.xlabel(#----Write Your Code Here----)\n",
        "    plt.ylabel(#----Write Your Code Here----)\n",
        "\n",
        "    # loop for step_end steps\n",
        "    for step in range(step_end):\n",
        "      t = step * dt \n",
        "      i = #----Write Your Code Here----\n",
        "      plt.plot(#----Write Your Code Here----)\n",
        "\n",
        "plt.show()"
      ],
      "execution_count": null,
      "outputs": []
    },
    {
      "cell_type": "markdown",
      "metadata": {
        "id": "_H4qCz9MOTRL"
      },
      "source": [
        "### Exercise 4\n",
        "Plot the values of $V(t)$ between $t=0$ and $t=t_{max}$.\n",
        "\n",
        "**Suggestions**\n",
        "* Compute the required number of steps with`int(t_max/dt)`\n",
        "* Use plotting command for black small(er) dots with argument `'k.'`"
      ]
    },
    {
      "cell_type": "code",
      "metadata": {
        "id": "6P3BJIv3OTRL"
      },
      "source": [
        "# initialize step_end and v\n",
        "step_end = int(t_max / dt)\n",
        "v = el\n",
        "\n",
        "with plt.xkcd():\n",
        "  # initialize the figure\n",
        "  plt.figure(figsize=(10,5))\n",
        "  plt.title('$V_m$ with sinusoidal I(t)')\n",
        "  plt.xlabel('time (s)')\n",
        "  plt.ylabel('$V_m$ (V)');\n",
        "  # loop for step_end steps\n",
        "  for step in range(step_end):\n",
        "    t = step * dt\n",
        "    i = #----Write Your Code Here----\n",
        "    plt.plot(#----Write Your Code Here----)\n",
        "\n",
        "    v = #----Write Your Code Here----\n",
        "\n",
        "  t = t + dt\n",
        "  plt.plot(#----Write Your Code Here----)\n",
        "  plt.show()"
      ],
      "execution_count": null,
      "outputs": []
    },
    {
      "cell_type": "markdown",
      "metadata": {
        "id": "gVt7jrWLOTRL"
      },
      "source": [
        "---\n",
        "## Random synaptic input\n",
        "From the perspective of neurons, synaptic input is random (or stochastic). We'll improve the synaptic input model by introducing random input current with statistical properties similar to the previous exercise:\n",
        "\n",
        "\\begin{align*}\n",
        "\\\\\n",
        "I(t)=I_{mean}\\left(1+0.1\\sqrt{\\frac{t_{max}}{\\Delta t}}\\,\\xi(t)\\right)\\qquad\\text{with }\\xi(t)\\sim U(-1,1)\\\\\n",
        "\\\\\n",
        "\\end{align*}\n",
        "\n",
        "where $U(-1,1)$ is the [uniform distribution](https://en.wikipedia.org/wiki/Uniform_distribution_(continuous)) with support $x\\in[-1,1]$.\n",
        "\n",
        "Random synaptic input $I(t)$ results in random time course for $V(t)$."
      ]
    },
    {
      "cell_type": "markdown",
      "metadata": {
        "id": "FOnQ-p1YOTRM"
      },
      "source": [
        "### Exercise 5\n",
        "Plot the values of $V(t)$ between $t=0$ and $t=t_{max}-\\Delta t$ with random input $I(t)$.\n",
        "\n",
        "The function `np.random.seed()` initializes the RNG, and `np.random.random()` generates samples from the uniform distribution between `0` and `1`.\n",
        "\n",
        "**Suggestions**\n",
        "* Use `np.random.seed()` to initialize the RNG to `0`\n",
        "* Use `np.random.random()` to generate random input in range `[0,1]` at each timestep\n",
        "* Multiply random input by an appropriate factor to expand the range to `[-1,1]`\n",
        "* Verify that $V(t)$ has a random time course by changing the initial RNG value\n",
        "* Alternatively, comment RNG initialization by typing `CTRL` + `\\` in the relevant line"
      ]
    },
    {
      "cell_type": "code",
      "metadata": {
        "id": "XN8AzefrOTRM"
      },
      "source": [
        "# the random number generator (RNG) is fixed below to obtain the same random input each time.\n",
        "np.random.seed(2021)\n",
        "\n",
        "# initialize step_end and v\n",
        "step_end = int(t_max / dt)\n",
        "v = el\n",
        "t = 0\n",
        "\n",
        "with plt.xkcd():\n",
        "  plt.figure(figsize=(10,5))\n",
        "  plt.title('$V_m$ with random I(t)')\n",
        "  plt.xlabel('time (s)')\n",
        "  plt.ylabel('$V_m$ (V)')\n",
        "\n",
        "  # loop for step_end steps\n",
        "  for step in range(step_end):\n",
        "    t = step * dt\n",
        "    plt.plot(#----Write Your Code Here----)\n",
        "    i = #----Write Your Code Here----\n",
        "    v = #----Write Your Code Here----\n",
        "\n",
        "  plt.show()"
      ],
      "execution_count": null,
      "outputs": []
    },
    {
      "cell_type": "markdown",
      "metadata": {
        "id": "6KvYa92pOTRN"
      },
      "source": [
        "## Ensemble statistics\n",
        "If we run the previous exercise multiple times, it may give us the impression of periodic regularity in the evolution of $V(t)$. We'll collect the sample mean over $N=50$ realizations of $V(t)$  with random input to test such a hypothesis. The sample mean, sample variance and sample auto-covariance at times $\\left\\{t, s\\right\\}\\in[0,t_{max}]$, and for $N$ realizations $V_n(t)$ are given by:\n",
        "\n",
        "\\begin{align*}\n",
        "\\\\\n",
        "\\left\\langle V(t)\\right\\rangle &= \\frac{1}{N}\\sum_{n=1}^N V_n(t) & & \\text{sample mean}\\\\\n",
        "\\left\\langle (V(t)-\\left\\langle V(t)\\right\\rangle)^2\\right\\rangle &= \\frac{1}{N-1} \\sum_{n=1}^N \\left(V_n(t)-\\left\\langle V(t)\\right\\rangle\\right)^2 & & \\text{sample variance} \\\\\n",
        "\\left\\langle \\left(V(t)-\\left\\langle V(t)\\right\\rangle\\right)\\left(V(s)-\\left\\langle V(s)\\right\\rangle\\right)\\right\\rangle\n",
        "&= \\frac{1}{N-1} \\sum_{n=1}^N \\left(V_n(t)-\\left\\langle V(t)\\right\\rangle\\right)\\left(V_n(s)-\\left\\langle V(s)\\right\\rangle\\right) & & \\text{sample autocovariance}\\\\\n",
        "\\\\\n",
        "\\end{align*}"
      ]
    },
    {
      "cell_type": "code",
      "metadata": {
        "id": "fSJaRMwZOTRN"
      },
      "source": [
        "# @title Video: Ensemble statistics\n",
        "video = YouTubeVideo(id='4nIAS2oPEFI', width=854, height=480, fs=1)\n",
        "print(\"Video available at https://youtube.com/watch?v=\" + video.id)\n",
        "video"
      ],
      "execution_count": null,
      "outputs": []
    },
    {
      "cell_type": "markdown",
      "metadata": {
        "id": "kCIjG2rFOTRN"
      },
      "source": [
        "### Exercise 6\n",
        "Plot multiple realizations ($N=50$) of $V(t)$ by storing in a list the voltage of each neuron at time $t$.\n",
        "\n",
        "**Suggestions**\n",
        "* Initialize a list `v_n` with `50` values of membrane leak potential `el`\n",
        "* At each time step:\n",
        "  * Plot `v_n` with argument `'k.'` and parameter `alpha=0.05` to adjust the transparency (by default, `alpha=1`)\n",
        "  * In the plot command, replace `t` from the previous exercises with a list of size `n` with values `t`\n",
        "  * Loop over `50` realizations of random input\n",
        "  * Update `v_n` with the values of $V(t)$\n",
        "\n",
        "* Why is there a black dot at $t=0$?"
      ]
    },
    {
      "cell_type": "code",
      "metadata": {
        "id": "uUfYh-LgOTRN"
      },
      "source": [
        "# the random number generator (RNG) is fixed below to obtain the same random input each time.\n",
        "np.random.seed(2021)\n",
        "\n",
        "# initialize step_end, n and v_n\n",
        "step_end = int(t_max / dt)\n",
        "n = 50\n",
        "v_n = #----Write Your Code Here----\n",
        "\n",
        "# initialize the figure\n",
        "plt.figure(figsize=(10,5))\n",
        "plt.title('Multiple realizations of $V_m$')\n",
        "plt.xlabel('time (s)')\n",
        "plt.ylabel('$V_m$ (V)')\n",
        "\n",
        "# loop for step_end steps\n",
        "for step in range(step_end):\n",
        "  t = step * dt\n",
        "  plt.plot(#----Write Your Code Here----)\n",
        "\n",
        "  # loop for n steps\n",
        "  for j in range(0, n):\n",
        "    i = #----Write Your Code Here----\n",
        "    v_n[j] = #----Write Your Code Here----\n",
        "\n",
        "plt.show()"
      ],
      "execution_count": null,
      "outputs": []
    },
    {
      "cell_type": "markdown",
      "metadata": {
        "id": "QMD5aFt8OTRO"
      },
      "source": [
        "### Exercise 7\n",
        "Add the sample mean $\\left\\langle V(t)\\right\\rangle=\\frac{1}{N}\\sum_{n=1}^N V_n(t)$ to the plot.\n",
        "\n",
        "**Suggestions**\n",
        "* At each timestep:\n",
        "  * Compute and store in `v_mean` the sample mean $\\left\\langle V(t)\\right\\rangle$ by summing the values of list `v_n` with `sum` and dividing by `n`\n",
        "  * Plot $\\left\\langle V(t)\\right\\rangle$ with `alpha=0.8` and argument `'C0.'` for blue (you can read more about [specifying colors](https://matplotlib.org/tutorials/colors/colors.html#sphx-glr-tutorials-colors-colors-py))\n",
        "  * Loop over `50` realizations of random input\n",
        "  * Update `v_n` with the values of $V(t)$"
      ]
    },
    {
      "cell_type": "code",
      "metadata": {
        "id": "1RyYtQSkOTRO"
      },
      "source": [
        "# the random number generator (RNG) is fixed below to obtain the same random input each time.\n",
        "np.random.seed(2021)\n",
        "\n",
        "# initialize step_end, n and v_n\n",
        "step_end = int(t_max / dt)\n",
        "n = 50\n",
        "v_n = [el] * n\n",
        "\n",
        "# initialize the figure\n",
        "plt.figure(figsize=(10,5))\n",
        "plt.title('Multiple realizations of $V_m$')\n",
        "plt.xlabel('time (s)')\n",
        "plt.ylabel('$V_m$ (V)')\n",
        "\n",
        "# loop for step_end steps\n",
        "for step in range(step_end):\n",
        "  t = step * dt\n",
        "\n",
        "  v_mean = sum(v_n) / n\n",
        "  plt.plot(#----Write Your Code Here----)\n",
        "  plt.plot(#----Write Your Code Here----)\n",
        "\n",
        "  for j in range(0, n):\n",
        "    i = #----Write Your Code Here----\n",
        "    v_n[j] = #----Write Your Code Here----\n",
        "\n",
        "plt.show()"
      ],
      "execution_count": null,
      "outputs": []
    },
    {
      "cell_type": "markdown",
      "metadata": {
        "id": "CLlkwmCtOTRO"
      },
      "source": [
        "### Exercise 8\n",
        "Add the sample standard deviation $\\sigma(t)\\equiv\\sqrt{\\text{Var}\\left(t\\right)}$ to the plot, with sample variance $\\text{Var}(t) = \\frac{1}{N-1} \\sum_{n=1}^N \\left(V_n(t)-\\left\\langle V(t)\\right\\rangle\\right)^2$.\n",
        "\n",
        "Use a list comprehension to collect the sample variance `v_var`. Here's an example to initialize a list with squares of `0` to `9`:\n",
        "```\n",
        "squares = [x**2 for x in range(10)]\n",
        "print(squares)\n",
        "--> [0, 1, 4, 9, 16, 25, 36, 49, 64, 81]\n",
        "```\n",
        "\n",
        "Why are we plotting $\\sigma(t)$ rather than the $\\text{Var}(t)$? What are the units of each and the units of $\\left\\langle V(t)\\right\\rangle$?\n",
        "\n",
        "**Suggestions**\n",
        "* At each timestep:\n",
        "  * Compute and store in `v_mean` the sample mean $\\left\\langle V(t)\\right\\rangle$\n",
        "  * Initialize a list `v_var_n` with the contribution of each $V_n(t)$ to $\\text{Var}\\left(t\\right)$ with a list comprehension over values of `v_n`\n",
        "  * Compute sample variance `v_var` by summing the values of `v_var_n` with `sum` and dividing by `n-1`\n",
        "  * (alternative: loop over the values of `v_n` and add to `v_var` each contribution $V_n(t)$ and divide by `n-1` outside the loop)\n",
        "  * Compute the standard deviation `v_std` with the function `np.sqrt`\n",
        "  * Plot $\\left\\langle V(t)\\right\\rangle\\pm\\sigma(t)$ with `alpha=0.8` and argument `'C7.'`"
      ]
    },
    {
      "cell_type": "code",
      "metadata": {
        "id": "7oQW8a6xOTRO"
      },
      "source": [
        "# the random number generator (RNG) is fixed below to obtain the same random input each time.\n",
        "np.random.seed(2021)\n",
        "\n",
        "# initialize step_end, n and v_n\n",
        "step_end = int(t_max / dt)\n",
        "n = 50\n",
        "v_n = [el] * n\n",
        "\n",
        "# initialize the figure\n",
        "plt.figure(figsize=(10,5))\n",
        "plt.title('Multiple realizations of $V_m$')\n",
        "plt.xlabel('time (s)')\n",
        "plt.ylabel('$V_m$ (V)')\n",
        "\n",
        "# loop for step_end steps\n",
        "for step in range(step_end):\n",
        "  t = step * dt\n",
        "\n",
        "  v_mean = #----Write Your Code Here----\n",
        "  v_var_n = #----Write Your Code Here----\n",
        "  v_var = #----Write Your Code Here----\n",
        "  v_std = #----Write Your Code Here----\n",
        "\n",
        "  plt.plot(#----Write Your Code Here----)\n",
        "  plt.plot(#----Write Your Code Here----)\n",
        "  plt.plot(#----Write Your Code Here----)\n",
        "  plt.plot(#----Write Your Code Here----)\n",
        "\n",
        "  for j in range(0, n):\n",
        "    i = #----Write Your Code Here----\n",
        "    v_n[j] = #----Write Your Code Here----\n",
        "\n",
        "plt.show()"
      ],
      "execution_count": null,
      "outputs": []
    },
    {
      "cell_type": "markdown",
      "metadata": {
        "id": "lgQ4EbWoOTRO"
      },
      "source": [
        "---\n",
        "## Using NumPy\n",
        "The next set of exercises introduces `np.array`, the workhorse from the scientific computation package [NumPy](https://numpy.org). Numpy arrays the default for numerical data storage and computation and will separate computing steps from plotting.\n",
        "\n",
        "![NumPy package](https://github.com/mpbrigham/colaboratory-figures/raw/master/nma/python-for-nma/numpy_logo_small.png)\n",
        "\n",
        "We updated plots inside the main loop in the previous exercises and stored intermediate results in lists for plotting them. The purpose was to simplify earlier exercises as much as possible. However, there are very few scenarios where this technique is necessary, and you should avoid it in the future. Using numpy arrays will significantly simplify our coding narrative by computing inside the main loop and plotting afterward.\n",
        "\n",
        "Lists are much more natural for storing data for other purposes than computation. For example, lists are handy for storing numerical indexes and text."
      ]
    },
    {
      "cell_type": "code",
      "metadata": {
        "id": "h0jM3-P5OTRP"
      },
      "source": [
        "# @title Video: Using NumPy\n",
        "video = YouTubeVideo(id='ewyHKKa2_OU', width=854, height=480, fs=1)\n",
        "print(\"Video available at https://youtube.com/watch?v=\" + video.id)\n",
        "video"
      ],
      "execution_count": null,
      "outputs": []
    },
    {
      "cell_type": "markdown",
      "metadata": {
        "id": "uyjeeyrNOTRP"
      },
      "source": [
        "### Exercise 9\n",
        "Rewrite the single neuron plot with random input from _Exercise 7_ with numpy arrays. The time range, voltage values, and synaptic current are initialized or pre-computed as numpy arrays before numerical integration.\n",
        "\n",
        "**Suggestions**\n",
        "* Use `np.linspace` to initialize a numpy array `t_range` with `num=step_end=150` values from `0` to `t_max`\n",
        "* Use `np.ones` to initialize a numpy array `v` with `step_end + 1` leak potential values `el`\n",
        "* Pre-compute `step_end` synaptic current values in numpy array `syn` with `np.random.random(step_end)` for `step_end` random numbers\n",
        "* Iterate for numerical integration of `v`\n",
        "* Since `v[0]=el`, we should iterate for `step_end` steps, for example by skipping `step=0`. Why?"
      ]
    },
    {
      "cell_type": "code",
      "metadata": {
        "id": "WSHpSphtOTRP"
      },
      "source": [
        "# the random number generator (RNG) is fixed below to obtain the same random input each time.\n",
        "np.random.seed(2021)\n",
        "\n",
        "# initialize step_end, t_range, v and syn\n",
        "step_end = int(t_max / dt) - 1\n",
        "# skip the endpoint to match Exercise 5 plot\n",
        "t_range = np.linspace(0, t_max, num=step_end, endpoint=False)\n",
        "v = el * np.ones(step_end)\n",
        "syn = #----Write Your Code Here----\n",
        "\n",
        "# loop for step_end - 1 steps\n",
        "for step in range(1, step_end):\n",
        "  v[step] = #----Write Your Code Here----\n",
        "\n",
        "with plt.xkcd():\n",
        "  # initialize the figure\n",
        "  plt.figure(figsize=(10,5))\n",
        "  plt.title('$V_m$ with random I(t)')\n",
        "  plt.xlabel('time (s)')\n",
        "  plt.ylabel('$V_m$ (V)')\n",
        "\n",
        "  plt.plot(t_range, v, 'k')\n",
        "  plt.show()"
      ],
      "execution_count": null,
      "outputs": []
    },
    {
      "cell_type": "markdown",
      "metadata": {
        "id": "qmxcBPlSOTRP"
      },
      "source": [
        "### Exercise 10\n",
        "Let's practice using `enumerate` to iterate over the indexes and values of the synaptic current array `syn`.\n",
        "\n",
        "**Suggestions**\n",
        "* Iterate indexes and values of `syn` with `enumerate` in the `for` loop\n",
        "* Plot `v` with argument `'k'` for displaying a line instead of dots"
      ]
    },
    {
      "cell_type": "code",
      "metadata": {
        "id": "0RjqtgM2OTRP"
      },
      "source": [
        "# the random number generator (RNG) is fixed below to obtain the same random input each time.\n",
        "np.random.seed(2021)\n",
        "\n",
        "# initialize step_end, t_range, v and syn\n",
        "step_end = int(t_max / dt)\n",
        "t_range = np.linspace(0, t_max, num=step_end)\n",
        "v = el * np.ones(step_end)\n",
        "syn = i_mean * (1 + 0.1 * (t_max / dt)**(0.5) * (2 * np.random.random(step_end) - 1))\n",
        "\n",
        "# loop for step_end values of syn\n",
        "for step, i in enumerate(syn):\n",
        "  # skip first iteration\n",
        "  if step==0:\n",
        "    continue\n",
        "  v[step] = #----Write Your Code Here----\n",
        "\n",
        "with plt.xkcd():\n",
        "  # initialize the figure\n",
        "  plt.figure(figsize=(10,5))\n",
        "  plt.title('$V_m$ with random I(t)')\n",
        "  plt.xlabel('time (s)')\n",
        "  plt.ylabel('$V_m$ (V)')\n",
        "\n",
        "  plt.plot(t_range, v, 'k')\n",
        "  plt.show()"
      ],
      "execution_count": null,
      "outputs": []
    },
    {
      "cell_type": "code",
      "metadata": {
        "id": "5jYraqkJOTRQ"
      },
      "source": [
        "# @title Video: Aggregation\n",
        "video = YouTubeVideo(id='1ME-0rJXLFg', width=854, height=480, fs=1)\n",
        "print(\"Video available at https://youtube.com/watch?v=\" + video.id)\n",
        "video"
      ],
      "execution_count": null,
      "outputs": []
    },
    {
      "cell_type": "markdown",
      "metadata": {
        "id": "xhGPafQfOTRQ"
      },
      "source": [
        "### Exercise 11\n",
        "Plot multiple realizations ($N=50$) of $V(t)$ by storing the voltage of each neuron at time $t$ in a numpy array.\n",
        "\n",
        "**Suggestions**\n",
        "* Initialize a numpy array `v_n` of shape `(n, step_end)` with membrane leak potential values `el`\n",
        "* Pre-compute synaptic current values in numpy array `syn` of shape `(n, step_end)`\n",
        "* Iterate `step_end` steps with a `for` loop for numerical integration\n",
        "* Plot results with a single plot command, by providing `v_n.T` to the plot function. `v_n.T` is the transposed version of `v_n` (with rows and columns swapped)."
      ]
    },
    {
      "cell_type": "code",
      "metadata": {
        "id": "kqSkrjVdOTRQ"
      },
      "source": [
        "# the random number generator (RNG) is fixed below to obtain the same random input each time.\n",
        "np.random.seed(2021)\n",
        "\n",
        "# initialize step_end, n, t_range, v and syn\n",
        "step_end = int(t_max / dt)\n",
        "n = 50\n",
        "t_range = np.linspace(0, t_max, num=step_end)\n",
        "v_n = el * np.ones([n, step_end])\n",
        "syn = #----Write Your Code Here----\n",
        "\n",
        "# loop for step_end - 1 steps\n",
        "for step in range(1, step_end):\n",
        "  v_n[:, step] = #----Write Your Code Here----\n",
        "\n",
        "with plt.xkcd():\n",
        "  # initialize the figure\n",
        "  plt.figure(figsize=(10,5))\n",
        "  plt.title('Multiple realizations of $V_m$')\n",
        "  plt.xlabel('time (s)')\n",
        "  plt.ylabel('$V_m$ (V)')\n",
        "\n",
        "  plt.plot(#----Write Your Code Here----)\n",
        "  plt.show()"
      ],
      "execution_count": null,
      "outputs": []
    },
    {
      "cell_type": "markdown",
      "metadata": {
        "id": "eV635oVXOTRQ"
      },
      "source": [
        "### Exercise 12\n",
        "Add sample mean $\\left\\langle V(t)\\right\\rangle$ and standard deviation $\\sigma(t)\\equiv\\sqrt{\\text{Var}\\left(t\\right)}$ to the plot.\n",
        "\n",
        "`np.mean(v_n, axis=0)` computes mean over rows, i.e. mean for each neuron\n",
        "\n",
        "`np.mean(v_n, axis=1)` computes mean over columns (axis `1`), i.e. mean for each time step\n",
        "\n",
        "**Suggestions**\n",
        "* Use `np.mean` and `np.std` with `axis=0` to sum over neurons\n",
        "* Use `label` argument in `plt.plot` to specify labels in each trace. Label only the last voltage trace to avoid labeling all `N` of them."
      ]
    },
    {
      "cell_type": "code",
      "metadata": {
        "id": "Zh7TTpMGOTRQ"
      },
      "source": [
        "# the random number generator (RNG) is fixed below to obtain the same random input each time.\n",
        "np.random.seed(2021)\n",
        "\n",
        "# initialize step_end, n, t_range, v and syn\n",
        "step_end = int(t_max / dt)\n",
        "n = 50\n",
        "t_range = np.linspace(0, t_max, num=step_end)\n",
        "v_n = el * np.ones([n, step_end])\n",
        "syn = i_mean * (1 + 0.1 * (t_max / dt)**(0.5) * (2 * np.random.random([n, step_end]) - 1))\n",
        "\n",
        "# loop for step_end - 1 steps\n",
        "for step in range(1, step_end):\n",
        "  v_n[:,step] = v_n[:,step - 1] + (dt / tau) * (el - v_n[:, step - 1] + r * syn[:, step])\n",
        "\n",
        "v_mean = #----Write Your Code Here----\n",
        "v_std = #----Write Your Code Here----\n",
        "\n",
        "with plt.xkcd():\n",
        "  # initialize the figure\n",
        "  plt.figure()\n",
        "  plt.title('Multiple realizations of $V_m$')\n",
        "  plt.xlabel('time (s)')\n",
        "  plt.ylabel('$V_m$ (V)')\n",
        "\n",
        "  plt.plot(t_range, v_n[:-1].T, 'k', alpha=0.3)\n",
        "\n",
        "  plt.plot(#----Write Your Code Here----)\n",
        "  plt.plot(#----Write Your Code Here----)\n",
        "  plt.plot(#----Write Your Code Here----)\n",
        "  plt.plot(#----Write Your Code Here----)\n",
        "\n",
        "  plt.legend()\n",
        "  plt.show()"
      ],
      "execution_count": null,
      "outputs": []
    }
  ]
}