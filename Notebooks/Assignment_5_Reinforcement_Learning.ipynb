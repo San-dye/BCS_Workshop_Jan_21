{
  "nbformat": 4,
  "nbformat_minor": 0,
  "metadata": {
    "colab": {
      "name": "Copy of BCS Reinforcement Learning.ipynb",
      "provenance": [],
      "collapsed_sections": [],
      "toc_visible": true
    },
    "kernel": {
      "display_name": "Python 3",
      "language": "python",
      "name": "python3"
    },
    "kernelspec": {
      "display_name": "Python 3",
      "language": "python",
      "name": "python3"
    },
    "language_info": {
      "codemirror_mode": {
        "name": "ipython",
        "version": 3
      },
      "file_extension": ".py",
      "mimetype": "text/x-python",
      "name": "python",
      "nbconvert_exporter": "python",
      "pygments_lexer": "ipython3",
      "version": "3.7.8"
    }
  },
  "cells": [
    {
      "cell_type": "markdown",
      "metadata": {
        "id": "p0AbOn-ATgRS"
      },
      "source": [
        "# BCS Workshop 2020\n",
        "# Reinforcement Learning\n",
        "\n",
        "__Adapted by:__ Debaditya Bhattacharya from NMA Summer School 2020.   \n",
        "\n",
        "## Note\n",
        "\n",
        "This notebook has been divided into 4 parts, and each part has sections, subsections, videos, demos and / or exercises under it. The contents of the notebook are _inherently_ difficult. Watch the videos, and rewatch them if you have to. Google things you don't understand. Seek simple explanations. Take your time while solving the questions. If you feel frustrated or stuck for long, take a break and come back to it a little bit later. Still stuck? Ask a friend or the workshop organizers. \n",
        "\n",
        "Now without further ado, lets get started :)\n",
        "\n",
        "All the best!\n",
        "\n",
        "P.S. Don't forget to copy it to your own drive before you begin!"
      ]
    },
    {
      "cell_type": "markdown",
      "metadata": {
        "id": "ogUyHbGxTgRT"
      },
      "source": [
        "---\n",
        "# Part 1\n",
        "## Objectives\n",
        "  \n",
        "In this part, we will learn how to estimate state-value functions in a classical conditioning paradigm using Temporal Difference (TD) learning and examine TD-errors at the presentation of the conditioned and unconditioned stimulus (CS and US) under different CS-US contingencies. These exercises will provide you with an understanding of both how reward prediction errors (RPEs) behave in classical conditioning and what we should expect to see if Dopamine represents a \"canonical\" model-free RPE. \n",
        "\n",
        "At the end of this part:    \n",
        "* You will learn to use the standard tapped delay line conditioning model\n",
        "* You will understand how RPEs move to CS\n",
        "* You will understand how variability in reward size effects RPEs\n",
        "* You will understand how differences in US-CS timing effect RPEs"
      ]
    },
    {
      "cell_type": "code",
      "metadata": {
        "cellView": "code",
        "id": "ONJe3ZrzTgRU"
      },
      "source": [
        "# Imports\n",
        "import numpy as np\n",
        "import matplotlib.pyplot as plt"
      ],
      "execution_count": null,
      "outputs": []
    },
    {
      "cell_type": "code",
      "metadata": {
        "cellView": "form",
        "id": "2SUgjIsQTgRV"
      },
      "source": [
        "#@title Figure settings\n",
        "import ipywidgets as widgets       # interactive display\n",
        "%config InlineBackend.figure_format = 'retina'\n",
        "plt.style.use(\"https://raw.githubusercontent.com/NeuromatchAcademy/course-content/master/nma.mplstyle\")"
      ],
      "execution_count": null,
      "outputs": []
    },
    {
      "cell_type": "code",
      "metadata": {
        "cellView": "form",
        "id": "6y7sq_KnTgRV"
      },
      "source": [
        "# @title Helper functions\n",
        "from matplotlib import ticker\n",
        "\n",
        "def plot_value_function(V, ax=None, show=True):\n",
        "  \"\"\"Plot V(s), the value function\"\"\"\n",
        "  if not ax:\n",
        "    fig, ax = plt.subplots()\n",
        "\n",
        "  ax.stem(V, use_line_collection=True)\n",
        "  ax.set_ylabel('Value')\n",
        "  ax.set_xlabel('State')\n",
        "  ax.set_title(\"Value function: $V(s)$\")\n",
        "\n",
        "  if show:\n",
        "    plt.show()\n",
        "\n",
        "def plot_tde_trace(TDE, ax=None, show=True, skip=400):\n",
        "  \"\"\"Plot the TD Error across trials\"\"\"\n",
        "  if not ax:\n",
        "    fig, ax = plt.subplots()\n",
        "\n",
        "  indx = np.arange(0, TDE.shape[1], skip)\n",
        "  im = ax.imshow(TDE[:,indx])\n",
        "  positions = ax.get_xticks()\n",
        "  # Avoid warning when setting string tick labels\n",
        "  ax.xaxis.set_major_locator(ticker.FixedLocator(positions))\n",
        "  ax.set_xticklabels([f\"{int(skip * x)}\" for x in positions])\n",
        "  ax.set_title('TD-error over learning')\n",
        "  ax.set_ylabel('State')\n",
        "  ax.set_xlabel('Iterations')\n",
        "  ax.figure.colorbar(im)\n",
        "  if show:\n",
        "    plt.show()\n",
        "\n",
        "def learning_summary_plot(V, TDE):\n",
        "  \"\"\"Summary plot for Ex1\"\"\"\n",
        "  fig, (ax1, ax2) = plt.subplots(nrows = 2, gridspec_kw={'height_ratios': [1, 2]})\n",
        "\n",
        "  plot_value_function(V, ax=ax1, show=False)\n",
        "  plot_tde_trace(TDE, ax=ax2, show=False)\n",
        "  plt.tight_layout()\n",
        "\n",
        "def reward_guesser_title_hint(r1, r2):\n",
        "  \"\"\"\"Provide a mildly obfuscated hint for a demo.\"\"\"\n",
        "  if (r1==14 and r2==6) or (r1==6 and r2==14):\n",
        "    return \"Technically correct...(the best kind of correct)\"\n",
        "\n",
        "  if  ~(~(r1+r2) ^ 11) - 1 == (6 | 24): # Don't spoil the fun :-)\n",
        "    return \"Congratulations! You solved it!\"\n",
        "\n",
        "  return \"Keep trying....\"\n",
        "\n",
        "#@title Default title text\n",
        "class ClassicalConditioning:\n",
        "\n",
        "    def __init__(self, n_steps, reward_magnitude, reward_time):\n",
        "\n",
        "        # Task variables\n",
        "        self.n_steps = n_steps\n",
        "        self.n_actions = 0\n",
        "        self.cs_time = int(n_steps/4) - 1\n",
        "\n",
        "        # Reward variables\n",
        "        self.reward_state = [0,0]\n",
        "        self.reward_magnitude = None\n",
        "        self.reward_probability = None\n",
        "        self.reward_time = None\n",
        "\n",
        "        self.set_reward(reward_magnitude, reward_time)\n",
        "\n",
        "        # Time step at which the conditioned stimulus is presented\n",
        "\n",
        "        # Create a state dictionary\n",
        "        self._create_state_dictionary()\n",
        "\n",
        "    def set_reward(self, reward_magnitude, reward_time):\n",
        "\n",
        "        \"\"\"\n",
        "        Determine reward state and magnitude of reward\n",
        "        \"\"\"\n",
        "        if reward_time >= self.n_steps - self.cs_time:\n",
        "            self.reward_magnitude = 0\n",
        "\n",
        "        else:\n",
        "            self.reward_magnitude = reward_magnitude\n",
        "            self.reward_state = [1, reward_time]\n",
        "\n",
        "    def get_outcome(self, current_state):\n",
        "\n",
        "        \"\"\"\n",
        "        Determine next state and reward\n",
        "        \"\"\"\n",
        "        # Update state\n",
        "        if current_state < self.n_steps - 1:\n",
        "            next_state = current_state + 1\n",
        "        else:\n",
        "            next_state = 0\n",
        "\n",
        "        # Check for reward\n",
        "        if self.reward_state == self.state_dict[current_state]:\n",
        "            reward = self.reward_magnitude\n",
        "        else:\n",
        "            reward = 0\n",
        "\n",
        "        return next_state, reward\n",
        "\n",
        "    def _create_state_dictionary(self):\n",
        "\n",
        "        \"\"\"\n",
        "        This dictionary maps number of time steps/ state identities\n",
        "        in each episode to some useful state attributes:\n",
        "\n",
        "        state      - 0 1 2 3 4 5 (cs) 6 7 8 9 10 11 12 ...\n",
        "        is_delay   - 0 0 0 0 0 0 (cs) 1 1 1 1  1  1  1 ...\n",
        "        t_in_delay - 0 0 0 0 0 0 (cs) 1 2 3 4  5  6  7 ...\n",
        "        \"\"\"\n",
        "        d = 0\n",
        "\n",
        "        self.state_dict = {}\n",
        "        for s in range(self.n_steps):\n",
        "            if s <= self.cs_time:\n",
        "                self.state_dict[s] = [0,0]\n",
        "            else:\n",
        "                d += 1 # Time in delay\n",
        "                self.state_dict[s] = [1,d]\n",
        "\n",
        "class MultiRewardCC(ClassicalConditioning):\n",
        "  \"\"\"Classical conditioning paradigm, except that one randomly selected reward,\n",
        "    magnitude, from a list, is delivered of a single fixed reward.\"\"\"\n",
        "  def __init__(self, n_steps, reward_magnitudes, reward_time=None):\n",
        "    \"\"\"\"Build a multi-reward classical conditioning environment\n",
        "      Args:\n",
        "        - nsteps: Maximum number of steps\n",
        "        - reward_magnitudes: LIST of possible reward magnitudes.\n",
        "        - reward_time: Single fixed reward time\n",
        "      Uses numpy global random state.\n",
        "      \"\"\"\n",
        "    super().__init__(n_steps, 1, reward_time)\n",
        "    self.reward_magnitudes = reward_magnitudes\n",
        "\n",
        "  def get_outcome(self, current_state):\n",
        "    next_state, reward = super().get_outcome(current_state)\n",
        "    if reward:\n",
        "      reward=np.random.choice(self.reward_magnitudes)\n",
        "    return next_state, reward\n",
        "\n",
        "\n",
        "class ProbabilisticCC(ClassicalConditioning):\n",
        "  \"\"\"Classical conditioning paradigm, except that rewards are stochastically omitted.\"\"\"\n",
        "  def __init__(self, n_steps, reward_magnitude, reward_time=None, p_reward=0.75):\n",
        "    \"\"\"\"Build a multi-reward classical conditioning environment\n",
        "      Args:\n",
        "        - nsteps: Maximum number of steps\n",
        "        - reward_magnitudes: Reward magnitudes.\n",
        "        - reward_time: Single fixed reward time.\n",
        "        - p_reward: probability that reward is actually delivered in rewarding state\n",
        "      Uses numpy global random state.\n",
        "      \"\"\"\n",
        "    super().__init__(n_steps, reward_magnitude, reward_time)\n",
        "    self.p_reward = p_reward\n",
        "\n",
        "  def get_outcome(self, current_state):\n",
        "    next_state, reward = super().get_outcome(current_state)\n",
        "    if reward:\n",
        "      reward*= int(np.random.uniform(size=1)[0] < self.p_reward)\n",
        "    return next_state, reward"
      ],
      "execution_count": null,
      "outputs": []
    },
    {
      "cell_type": "markdown",
      "metadata": {
        "id": "tluPcoUcTgRX"
      },
      "source": [
        "---\n",
        "## Section 1: TD-learning"
      ]
    },
    {
      "cell_type": "code",
      "metadata": {
        "colab": {
          "base_uri": "https://localhost:8080/",
          "height": 518
        },
        "cellView": "form",
        "id": "EiZaUUBQTgRY",
        "outputId": "7077d7cd-9e49-4982-e11c-0cd0ec7b06cb"
      },
      "source": [
        "#@title Video 1: Introduction\n",
        "from IPython.display import YouTubeVideo\n",
        "video = YouTubeVideo(id=\"YoNbc9M92YY\", width=854, height=480, fs=1)\n",
        "print(\"Video available at https://youtu.be/\" + video.id)\n",
        "video"
      ],
      "execution_count": null,
      "outputs": [
        {
          "output_type": "stream",
          "text": [
            "Video available at https://youtu.be/YoNbc9M92YY\n"
          ],
          "name": "stdout"
        },
        {
          "output_type": "execute_result",
          "data": {
            "text/html": [
              "\n",
              "        <iframe\n",
              "            width=\"854\"\n",
              "            height=\"480\"\n",
              "            src=\"https://www.youtube.com/embed/YoNbc9M92YY?fs=1\"\n",
              "            frameborder=\"0\"\n",
              "            allowfullscreen\n",
              "        ></iframe>\n",
              "        "
            ],
            "text/plain": [
              "<IPython.lib.display.YouTubeVideo at 0x7f826b8bd390>"
            ],
            "image/jpeg": "[encoded data removed]"
          },
          "metadata": {
            "tags": []
          },
          "execution_count": 1
        }
      ]
    },
    {
      "cell_type": "markdown",
      "metadata": {
        "id": "3Zmnqb7RTgRZ"
      },
      "source": [
        "__Environment:__\n",
        "\n",
        "- The agent experiences the environment in episodes or trials. \n",
        "- Episodes terminate by transitioning to the inter-trial-interval (ITI) state and they are initiated from the ITI state as well. We clamp the value of the terminal/ITI states to zero. \n",
        "- The classical conditioning environment is composed of a sequence of states that the agent deterministically transitions through. Starting at State 0, the agent moves to State 1 in the first step, from State 1 to State 2 in the second, and so on.  These states represent time in the tapped delay line representation\n",
        "- Within each episode, the agent is presented a CS and US (reward). \n",
        "- The CS is always presented at 1/4 of the total duration of the trial. The US (reward) is then delivered after the CS. The interval between the CS and US is specified by `reward_time`.\n",
        "- The agent's goal is to learn to predict expected rewards from each state in the trial. \n",
        "\n",
        "\n",
        "**General concepts**\n",
        "\n",
        "* Return $G_{t}$: future cumulative reward, which can be written in arecursive form\n",
        "\\begin{align}\n",
        "G_{t} &= \\sum \\limits_{k = 0}^{\\infty} \\gamma^{k} r_{t+k+1} \\\\\n",
        "&= r_{t+1} + \\gamma G_{t+1}\n",
        "\\end{align}\n",
        "where $\\gamma$ is discount factor that controls the importance of future rewards, and $\\gamma \\in [0, 1]$. $\\gamma$ may also be interpreted as probability of continuing the trajectory.\n",
        "* Value funtion $V_{\\pi}(s_t=s)$: expecation of the return\n",
        "\\begin{align}\n",
        "V_{\\pi}(s_t=s) &= \\mathbb{E} [ G_{t}\\; | \\; s_t=s, a_{t:\\infty}\\sim\\pi] \\\\\n",
        "& = \\mathbb{E} [ r_{t+1} + \\gamma G_{t+1}\\; | \\; s_t=s, a_{t:\\infty}\\sim\\pi]\n",
        "\\end{align}\n",
        "With an assumption of **Markov process**, we thus have:\n",
        "\\begin{align}\n",
        "V_{\\pi}(s_t=s) &= \\mathbb{E} [ r_{t+1} + \\gamma V_{\\pi}(s_{t+1})\\; | \\; s_t=s, a_{t:\\infty}\\sim\\pi] \\\\\n",
        "&= \\sum_a \\pi(a|s) \\sum_{r, s'}p(s', r)(r + V_{\\pi}(s_{t+1}=s'))\n",
        "\\end{align}\n",
        "\n",
        "**Temporal difference (TD) learning**\n",
        "\n",
        "* With a Markovian assumption, we can use $V(s_{t+1})$ as an imperfect proxy for the true value $G_{t+1}$ (Monte Carlo bootstrapping), and thus obtain the generalised equation to calculate TD-error:\n",
        "\\begin{align}\n",
        "\\delta_{t} = r_{t+1} + \\gamma V(s_{t+1}) - V(s_{t})\n",
        "\\end{align}\n",
        "\n",
        "* Value updated by using the learning rate constant $\\alpha$:\n",
        "\\begin{align}\n",
        "V(s_{t}) \\leftarrow V(s_{t}) + \\alpha \\delta_{t}\n",
        "\\end{align}\n",
        "\n",
        "  (Reference: https://web.stanford.edu/group/pdplab/pdphandbook/handbookch10.html)\n",
        "\n",
        "\n",
        "\n",
        "__Definitions:__\n",
        "\n",
        "* TD-error:\n",
        "\\begin{align}\n",
        "\\delta_{t} = r_{t+1} + \\gamma V(s_{t+1}) - V(s_{t})\n",
        "\\end{align}\n",
        "\n",
        "* Value updates:\n",
        "\\begin{align}\n",
        "V(s_{t}) \\leftarrow V(s_{t}) + \\alpha \\delta_{t}\n",
        "\\end{align}\n"
      ]
    },
    {
      "cell_type": "markdown",
      "metadata": {
        "id": "7uomozrGTgRZ"
      },
      "source": [
        "### Exercise 1: TD-learning with guaranteed rewards\n",
        "   \n",
        "Implement TD-learning to estimate the state-value function in the classical-conditioning world with guaranteed rewards, with a fixed magnitude, at a fixed delay after the conditioned stimulus, CS. Save TD-errors over learning (i.e., over trials) so we can visualize them afterwards. \n",
        "\n",
        "In order to simulate the effect of the CS, you should only update $V(s_{t})$ during the delay period after CS. This period is indicated by the boolean variable `is_delay`. This can be implemented by multiplying the expression for updating the value function by `is_delay`.\n",
        "\n",
        "Use the provided code to estimate the value function."
      ]
    },
    {
      "cell_type": "code",
      "metadata": {
        "id": "Vph1-MOtTgRb"
      },
      "source": [
        "def td_learner(env, n_trials, gamma=0.98, alpha=0.001):\n",
        "  \"\"\" Temporal Difference learning\n",
        "\n",
        "  Args:\n",
        "    env (object): the environment to be learned\n",
        "    n_trials (int): the number of trials to run\n",
        "    gamma (float): temporal discount factor\n",
        "    alpha (float): learning rate\n",
        "\n",
        "  Returns:\n",
        "    ndarray, ndarray: the value function and temporal difference error arrays\n",
        "  \"\"\"\n",
        "  V = np.zeros(env.n_steps) # Array to store values over states (time)\n",
        "  TDE = np.zeros((env.n_steps, n_trials)) # Array to store TD errors\n",
        "\n",
        "  for n in range(n_trials):\n",
        "    state = 0 # Initial state\n",
        "    for t in range(env.n_steps):\n",
        "      # Get next state and next reward\n",
        "      next_state, reward = env.get_outcome(state)\n",
        "      # Is the current state in the delay period (after CS)?\n",
        "      is_delay = env.state_dict[state][0]\n",
        "\n",
        "      ########################################################################\n",
        "      ## TODO for students: implement TD error and value function update\n",
        "      # Fill out function and remove\n",
        "      raise NotImplementedError(\"Student excercise: implement TD error and value function update\")\n",
        "      #################################################################################\n",
        "      # Write an expression to compute the TD-error\n",
        "      TDE[state, n] = ...\n",
        "\n",
        "      # Write an expression to update the value function\n",
        "      V[state] += ...\n",
        "\n",
        "      # Update state\n",
        "      state = next_state\n",
        "\n",
        "  return V, TDE\n",
        "\n",
        "\n",
        "# Uncomment once the td_learner function is complete\n",
        "# env = ClassicalConditioning(n_steps=40, reward_magnitude=10, reward_time=10)\n",
        "# V, TDE = td_learner(env, n_trials=20000)\n",
        "# learning_summary_plot(V, TDE)"
      ],
      "execution_count": null,
      "outputs": []
    },
    {
      "cell_type": "markdown",
      "metadata": {
        "outputId": "7e947f90-bf43-465c-8090-78b4e2eb41a6",
        "id": "AgLwRD6yTgRb"
      },
      "source": [
        "*Example output:*\n",
        "\n",
        "<img alt='Solution hint' align='left' width=558 height=414 src=https://raw.githubusercontent.com/NeuromatchAcademy/course-content/master/tutorials/W2D5_ReinforcementLearning/static/W2D5_Tutorial1_Solution_6f2c8b56_0.png>\n",
        "\n"
      ]
    },
    {
      "cell_type": "markdown",
      "metadata": {
        "id": "34sQzwAhTgRc"
      },
      "source": [
        "### Interactive Demo 1: US to CS Transfer \n",
        "\n",
        "During classical conditioning, the subject's behavioral response (e.g., salivating) transfers from the unconditioned stimulus (US; like the smell of tasty food) to the conditioned stimulus (CS; like Pavlov ringing his bell) that predicts it. Reward prediction errors play an important role in this process by adjusting the value of states according to their expected, discounted return.\n",
        "\n",
        "Use the widget below to examine how reward prediction errors change over time. Before training (orange line), only the reward state has high reward prediction error. As training progresses (blue line, slider), the reward prediction errors shift to the conditioned stimulus, where they end up when the trial is complete (green line). \n",
        "\n",
        "Dopamine neurons, which are thought to carry reward prediction errors _in vivo_, show exactly the same behavior!\n"
      ]
    },
    {
      "cell_type": "code",
      "metadata": {
        "id": "C2naHbd8TgRc"
      },
      "source": [
        "#@title\n",
        "\n",
        "#@markdown Make sure you execute this cell to enable the widget!\n",
        "\n",
        "n_trials = 20000\n",
        "\n",
        "@widgets.interact\n",
        "def plot_tde_by_trial(trial = widgets.IntSlider(value=5000, min=0, max=n_trials-1 , step=1, description=\"Trial #\")):\n",
        "  if 'TDE' not in globals():\n",
        "    print(\"Complete Exercise 1 to enable this interactive demo!\")\n",
        "  else:\n",
        "\n",
        "    fig, ax = plt.subplots()\n",
        "    ax.axhline(0, color='k') # Use this + basefmt=' ' to keep the legend clean.\n",
        "    ax.stem(TDE[:, 0], linefmt='C1-', markerfmt='C1d', basefmt=' ',\n",
        "            label=\"Before Learning (Trial 0)\",\n",
        "            use_line_collection=True)\n",
        "    ax.stem(TDE[:, -1], linefmt='C2-', markerfmt='C2s', basefmt=' ',\n",
        "            label=\"After Learning (Trial $\\infty$)\",\n",
        "            use_line_collection=True)\n",
        "    ax.stem(TDE[:, trial], linefmt='C0-', markerfmt='C0o', basefmt=' ',\n",
        "            label=f\"Trial {trial}\",\n",
        "            use_line_collection=True)\n",
        "\n",
        "    ax.set_xlabel(\"State in trial\")\n",
        "    ax.set_ylabel(\"TD Error\")\n",
        "    ax.set_title(\"Temporal Difference Error by Trial\")\n",
        "    ax.legend()"
      ],
      "execution_count": null,
      "outputs": []
    },
    {
      "cell_type": "markdown",
      "metadata": {
        "id": "kHPwCscDTgRd"
      },
      "source": [
        "### Interactive Demo 2: Learning Rates and Discount Factors\n",
        "\n",
        "Our TD-learning agent has two parameters that control how it learns: $\\alpha$, the learning rate, and $\\gamma$, the discount factor. In Exercise 1, we set these parameters to $\\alpha=0.001$ and $\\gamma=0.98$ for you. Here, you'll investigate how changing these parameters alters the model that TD-learning learns.\n",
        "\n",
        "Before enabling the interactive demo below, take a moment to think about the functions of these two parameters. $\\alpha$ controls the size of the Value function updates produced by each TD-error. In our simple, deterministic world, will this affect the final model we learn? Is a larger $\\alpha$ necessarily better in more complex, realistic environments?\n",
        "\n",
        "The discount rate $\\gamma$ applies an exponentially-decaying weight to returns occuring in the future, rather than the present timestep. How does this affect the model we learn? What happens when $\\gamma=0$ or $\\gamma \\geq 1$?\n",
        "\n",
        "Use the widget to test your hypotheses.\n",
        "\n",
        "\n"
      ]
    },
    {
      "cell_type": "code",
      "metadata": {
        "cellView": "form",
        "id": "1F4S0sEeTgRd"
      },
      "source": [
        "#@title\n",
        "\n",
        "#@markdown Make sure you execute this cell to enable the widget!\n",
        "\n",
        "@widgets.interact\n",
        "def plot_summary_alpha_gamma(alpha = widgets.FloatSlider(value=0.0001, min=0.0001, max=0.1, step=0.0001, readout_format='.4f', description=\"alpha\"),\n",
        "                             gamma = widgets.FloatSlider(value=0.980, min=0, max=1.1, step=0.010, description=\"gamma\")):\n",
        "  env = ClassicalConditioning(n_steps=40, reward_magnitude=10, reward_time=10)\n",
        "  try:\n",
        "    V_params, TDE_params = td_learner(env, n_trials=20000, gamma=gamma, alpha=alpha)\n",
        "  except NotImplementedError:\n",
        "    print(\"Finish Exercise 1 to enable this interactive demo\")\n",
        "\n",
        "  learning_summary_plot(V_params,TDE_params)"
      ],
      "execution_count": null,
      "outputs": []
    },
    {
      "cell_type": "markdown",
      "metadata": {
        "id": "KNvDrX8vTgRe"
      },
      "source": [
        "---\n",
        "## Section 2: TD-learning with varying reward magnitudes\n",
        "\n",
        "In the previous exercise, the environment was as simple as possible. On every trial, the CS predicted the same reward, at the same time, with 100% certainty. In the next few exercises, we will make the environment more progressively more complicated and examine the TD-learner's behavior. \n"
      ]
    },
    {
      "cell_type": "markdown",
      "metadata": {
        "id": "ONUEYgcbTgRe"
      },
      "source": [
        "### Interactive Demo 3: Match the Value Functions\n",
        "\n",
        "First, will replace the environment with one that dispenses one of several rewards, chosen at random. Shown below is the final value function $V$ for a TD learner that was trained in an enviroment where the CS predicted a reward of 6 or 14 units; both rewards were equally likely). \n",
        "\n",
        "Can you find another pair of rewards that cause the agent to learn the same value function? Assume each reward will be dispensed 50% of the time. \n",
        "\n",
        "Hints:\n",
        "* Carefully consider the definition of the value function $V$. This can be solved analytically.\n",
        "* There is no need to change $\\alpha$ or $\\gamma$. \n",
        "* Due to the randomness, there may be a small amount of variation."
      ]
    },
    {
      "cell_type": "code",
      "metadata": {
        "cellView": "form",
        "id": "17fFEmkFTgRf"
      },
      "source": [
        "#@title\n",
        "\n",
        "#@markdown Make sure you execute this cell to enable the widget!\n",
        "\n",
        "n_trials = 20000\n",
        "np.random.seed(2020)\n",
        "rng_state = np.random.get_state()\n",
        "env = MultiRewardCC(40, [6, 14], reward_time=10)\n",
        "V_multi, TDE_multi = td_learner(env, n_trials, gamma=0.98, alpha=0.001)\n",
        "\n",
        "@widgets.interact\n",
        "def reward_guesser_interaction(r1 = widgets.IntText(value=0, min=0, max=50, description=\"Reward 1\"),\n",
        "                               r2 = widgets.IntText(value=0, min=0, max=50, description=\"Reward 2\")):\n",
        "  try:\n",
        "    env2 = MultiRewardCC(40, [r1, r2], reward_time=10)\n",
        "    V_guess, _ = td_learner(env2, n_trials, gamma=0.98, alpha=0.001)\n",
        "    fig, ax = plt.subplots()\n",
        "    m, l, _ = ax.stem(V_multi, linefmt='y-', markerfmt='yo', basefmt=' ', label=\"Target\",\n",
        "            use_line_collection=True)\n",
        "    m.set_markersize(15)\n",
        "    m.set_markerfacecolor('none')\n",
        "    l.set_linewidth(4)\n",
        "    m, _, _ = ax.stem(V_guess, linefmt='r', markerfmt='rx', basefmt=' ', label=\"Guess\",\n",
        "                      use_line_collection=True)\n",
        "    m.set_markersize(15)\n",
        "\n",
        "    ax.set_xlabel(\"State\")\n",
        "    ax.set_ylabel(\"Value\")\n",
        "    ax.set_title(\"Guess V(s)\\n\" + reward_guesser_title_hint(r1, r2))\n",
        "    ax.legend()\n",
        "  except NotImplementedError:\n",
        "    print(\"Please finish Exercise 1 first!\")"
      ],
      "execution_count": null,
      "outputs": []
    },
    {
      "cell_type": "markdown",
      "metadata": {
        "id": "dUPkjth-TgRf"
      },
      "source": [
        "### Section 2.1 Examining the TD Error\n",
        "\n",
        "Run the cell below to plot the TD errors from our multi-reward environment. A new feature appears in this plot? What is it? Why does it happen?"
      ]
    },
    {
      "cell_type": "code",
      "metadata": {
        "id": "OsCvbCq5TgRf"
      },
      "source": [
        "plot_tde_trace(TDE_multi)"
      ],
      "execution_count": null,
      "outputs": []
    },
    {
      "cell_type": "markdown",
      "metadata": {
        "id": "QiuDyhlnTgRg"
      },
      "source": [
        "---\n",
        "## Section 3: TD-learning with probabilistic rewards\n",
        "\n",
        "In this environment, we'll return to delivering a single reward of ten units. However, it will be delivered intermittently: on 20 percent of trials, the CS will be shown but the agent will not receive the usual reward; the remaining 80% will proceed as usual.\n",
        "\n",
        " Run the cell below to simulate. How does this compare with the previous experiment?\n",
        "\n",
        "Earlier in the notebook, we saw that changing $\\alpha$ had little effect on learning in a deterministic environment. What happens if you set it to an large value, like 1, in this noisier scenario? Does it seem like it will _ever_ converge?"
      ]
    },
    {
      "cell_type": "code",
      "metadata": {
        "id": "20SPqfNkTgRg"
      },
      "source": [
        "np.random.set_state(rng_state) # Resynchronize everyone's notebooks\n",
        "n_trials = 20000\n",
        "try:\n",
        "  env = ProbabilisticCC(n_steps=40, reward_magnitude=10, reward_time=10,\n",
        "                        p_reward=0.8)\n",
        "  V_stochastic, TDE_stochastic = td_learner(env, n_trials*2, alpha=1)\n",
        "  learning_summary_plot(V_stochastic, TDE_stochastic)\n",
        "except NotImplementedError:\n",
        "  print(\"Please finish Exercise 1 first\")"
      ],
      "execution_count": null,
      "outputs": []
    },
    {
      "cell_type": "markdown",
      "metadata": {
        "id": "RB4UaJdmTgRh"
      },
      "source": [
        "---\n",
        "## Summary\n",
        "\n",
        "In this notebook, we have developed a simple TD Learner and examined how its state representations and reward prediction errors evolve during training. By manipualting its environment and parameters ($\\alpha$, $\\gamma$), you developed an intuition for how it behaves. \n",
        "\n",
        "This simple model closely resembles the behavior of subjects undergoing classical conditioning tasks and the dopamine neurons that may underlie that behavior. You may have implemented TD-reset or used the model to recreate a common experimental error. The update rule used here has been extensively studied for [more than 70 years](https://www.pnas.org/content/108/Supplement_3/15647) as a possible explanation for artificial and biological learning. \n",
        "\n",
        "However, you may have noticed that something is missing from this notebook. We carefully calculated the value of each state, but did not use it to actually do anything. Using values to plan _**Actions**_ is coming up next!"
      ]
    },
    {
      "cell_type": "markdown",
      "metadata": {
        "id": "YOu3EQQJTgRk"
      },
      "source": [
        "---\n",
        "\n",
        "# Part 2\n",
        "## Objectives\n",
        "  \n",
        "In this part you will use 'bandits' to understand the fundementals of how a policy interacts with the learning algorithm in reinforcement learning.\n",
        "    \n",
        "* You will understand the fundemental tradeoff between exploration and exploitation in a policy.\n",
        "* You will understand how the learning rate interacts with exploration to find the best available action."
      ]
    },
    {
      "cell_type": "code",
      "metadata": {
        "cellView": "form",
        "id": "MK963nnBTgRl"
      },
      "source": [
        "#@title Figure settings\n",
        "import ipywidgets as widgets       # interactive display\n",
        "%config InlineBackend.figure_format = 'retina'\n",
        "plt.style.use(\"https://raw.githubusercontent.com/NeuromatchAcademy/course-content/master/nma.mplstyle\")"
      ],
      "execution_count": null,
      "outputs": []
    },
    {
      "cell_type": "code",
      "metadata": {
        "cellView": "form",
        "id": "N4Odb5uGTgRm"
      },
      "source": [
        "#@title Helper functions\n",
        "np.set_printoptions(precision=3)\n",
        "\n",
        "def plot_choices(q, epsilon, choice_fn, n_steps=1000, rng_seed=1):\n",
        "  np.random.seed(rng_seed)\n",
        "  counts = np.zeros_like(q)\n",
        "  for t in range(n_steps):\n",
        "    action = choice_fn(q, epsilon)\n",
        "    counts[action] += 1\n",
        "\n",
        "  fig, ax = plt.subplots()\n",
        "  ax.bar(range(len(q)), counts/n_steps)\n",
        "  ax.set(ylabel='% chosen', xlabel='action', ylim=(0,1), xticks=range(len(q)))\n",
        "\n",
        "\n",
        "def plot_multi_armed_bandit_results(results):\n",
        "  fig, (ax1, ax2, ax3) = plt.subplots(ncols=3, figsize=(20, 4))\n",
        "  ax1.plot(results['rewards'])\n",
        "  ax1.set(title=f\"Total Reward: {np.sum(results['rewards']):.2f}\",\n",
        "          xlabel='step', ylabel='reward')\n",
        "  ax2.plot(results['qs'])\n",
        "  ax2.set(xlabel='step', ylabel='value')\n",
        "  ax2.legend(range(len(results['mu'])))\n",
        "  ax3.plot(results['mu'], label='latent')\n",
        "  ax3.plot(results['qs'][-1], label='learned')\n",
        "  ax3.set(xlabel='action', ylabel='value')\n",
        "  ax3.legend()\n",
        "\n",
        "\n",
        "def plot_parameter_performance(labels, fixed, trial_rewards, trial_optimal):\n",
        "  fig, (ax1, ax2) = plt.subplots(ncols=2, figsize=(16, 6))\n",
        "\n",
        "  ax1.plot(np.mean(trial_rewards, axis=1).T)\n",
        "  ax1.set(title=f'Average Reward ({fixed})', xlabel='step', ylabel='reward')\n",
        "  ax1.legend(labels)\n",
        "\n",
        "  ax2.plot(np.mean(trial_optimal, axis=1).T)\n",
        "  ax2.set(title=f'Performance ({fixed})', xlabel='step', ylabel='% optimal')\n",
        "  ax2.legend(labels)"
      ],
      "execution_count": null,
      "outputs": []
    },
    {
      "cell_type": "markdown",
      "metadata": {
        "id": "borOH-etTgRm"
      },
      "source": [
        "---\n",
        "## Section 1: Multi-Armed Bandits"
      ]
    },
    {
      "cell_type": "code",
      "metadata": {
        "cellView": "form",
        "colab": {
          "base_uri": "https://localhost:8080/",
          "height": 518
        },
        "id": "-QnCsOo2TgRm",
        "outputId": "d7c855c0-5273-4509-de84-8f88095ae31a"
      },
      "source": [
        "#@title Video 1: Multi-Armed Bandits\n",
        "# Insert the ID of the corresponding youtube video\n",
        "from IPython.display import YouTubeVideo\n",
        "video = YouTubeVideo(id=\"kdiXr1zsfo0\", width=854, height=480, fs=1)\n",
        "print(\"Video available at https://youtu.be/\" + video.id)\n",
        "video"
      ],
      "execution_count": null,
      "outputs": [
        {
          "output_type": "stream",
          "text": [
            "Video available at https://youtu.be/kdiXr1zsfo0\n"
          ],
          "name": "stdout"
        },
        {
          "output_type": "execute_result",
          "data": {
            "text/html": [
              "\n",
              "        <iframe\n",
              "            width=\"854\"\n",
              "            height=\"480\"\n",
              "            src=\"https://www.youtube.com/embed/kdiXr1zsfo0?fs=1\"\n",
              "            frameborder=\"0\"\n",
              "            allowfullscreen\n",
              "        ></iframe>\n",
              "        "
            ],
            "text/plain": [
              "<IPython.lib.display.YouTubeVideo at 0x7f826b06ff28>"
            ],
            "image/jpeg": "[encoded data removed]"
          },
          "metadata": {
            "tags": []
          },
          "execution_count": 2
        }
      ]
    },
    {
      "cell_type": "markdown",
      "metadata": {
        "id": "OpmaFDaBTgRn"
      },
      "source": [
        "Consider the following learning problem. You are faced repeatedly with a choice among $k$ different options, or actions. After each choice you receive a reward signal in the form of a numerical value, where the larger value is the better. Your objective is to maximize the expected total reward over some time period, for example, over 1000 action selections, or time steps.\n",
        "\n",
        "This is the original form of the k-armed bandit problem. This name derives from the colloquial name for a slot machine, the \"one-armed bandit\", because it has the one lever to pull, and it is often rigged to take more money than it pays out over time. The multi-armed bandit extension is to imagine, for instance, that you are faced with multiple slot machines that you can play, but only one at a time. Which machine should you play, i.e. which arm should you pull, which action should you take, at any given time to maximize your total payout.\n",
        "\n",
        "<img alt=\"MultiArmedBandit\" width=\"625\" height=\"269\" src=\"https://github.com/NeuromatchAcademy/course-content/blob/master/tutorials/W2D5_ReinforcementLearning/static/W2D5_Tutorial2_MultiarmedBandit.png?raw=true\">\n",
        "\n",
        "\n",
        "While there are many different levels of sophistication and assumptions in how the rewards are determined, for simplicity's sake we will assume that each action results in a reward drawn from a fixed Gaussian distribution with unknown mean and unit variance. This problem setting is referred to as the *environment*, and goal is to find the arm with the highest mean value.\n",
        "\n",
        "We will solve this *optimization problem* with an *agent*, in this case an algorithm that takes in rewards and returns actions."
      ]
    },
    {
      "cell_type": "markdown",
      "metadata": {
        "id": "EL6Sn_kUTgRn"
      },
      "source": [
        "---\n",
        "## Section 2: Choosing an Action\n",
        "   \n",
        "The first thing our agent needs to be able to do is choose which arm to pull. The strategy for choosing actions based on our expectations is called a *policy* (often denoted $\\pi$). We could have a random policy -- just pick an arm at random each time -- though this doesn't seem likely to be capable of optimizing our reward. We want some intentionality, and to do that we need a way of describing our beliefs about the arms' reward potential. We do this with an action-value function\n",
        "\n",
        "\\begin{align}\n",
        "q(a) = \\mathbb{E} [r_{t} | a_{t} = a]\n",
        "\\end{align}\n",
        "\n",
        "where the value $q$ for taking action $a \\in A$ at time $t$ is equal to the expected value of the reward $r_t$ given that we took action $a$ at that time. In practice, this is often represented as an array of values, where each action's value is a different element in the array.\n",
        "\n",
        "Great, now that we have a way to describe our beliefs about the values each action should return, let's come up with a policy.\n",
        "\n",
        "An obvious choice would be to take the action with the highest expected value. This is referred to as the *greedy* policy\n",
        "\n",
        "\\begin{align}\n",
        "a_{t} = \\text{argmax}_{a} \\; q_{t} (a)\n",
        "\\end{align}\n",
        "\n",
        "where our choice action is the one that maximizes the current value function.\n",
        "\n",
        "So far so good, but it can't be this easy. And, in fact, the greedy policy does have a fatal flaw: it easily gets trapped in local maxima. It never explores to see what it hasn't seen before if one option is already better than the others. This leads us to a fundamental challenge in coming up with effective polices."
      ]
    },
    {
      "cell_type": "markdown",
      "metadata": {
        "id": "ZiUpfi4MTgRo"
      },
      "source": [
        "### Section 2.1: The Exploitation-Exploration Dilemma\n",
        "\n",
        "If we never try anything new, if we always stick to the safe bet, we don't know what we are missing. Sometimes we aren't missing much of anything, and regret not sticking with our preferred choice, yet other times we stumble upon something new that was way better than we thought.\n",
        "\n",
        "This is the exploitation-exploration dilemma: do you go with you best choice now, or risk the less certain option with the hope of finding something better. Too much exploration, however, means you may end up with a sub-optimal reward once it's time to stop.\n",
        "\n",
        "In order to avoid getting stuck in local minima while also maximizing reward, effective policies need some way to balance between these two aims.\n",
        "\n",
        "A simple extension to our greedy policy is to add some randomness. For instance, a coin flip -- heads we take the best choice now, tails we pick one at random. This is referred to as the $\\epsilon$-greedy policy:\n",
        "\n",
        "\\begin{align}\n",
        "P (a_{t} = a) = \n",
        "        \\begin{cases}\n",
        "        1 - \\epsilon + \\epsilon/N    & \\quad \\text{if } a_{t} = \\text{argmax}_{a} \\; q_{t} (a) \\\\\n",
        "        \\epsilon/N        & \\quad \\text{else} \n",
        "        \\end{cases} \n",
        "\\end{align}\n",
        "\n",
        "which is to say that with probability 1 - $\\epsilon$ for $\\epsilon \\in [0,1]$ we select the greedy choice, and otherwise we select an action at random (including the greedy option).\n",
        "\n",
        "Despite its relative simplicity, the epsilon-greedy policy is quite effective, which leads to its general popularity."
      ]
    },
    {
      "cell_type": "markdown",
      "metadata": {
        "id": "2SjylrnLTgRo"
      },
      "source": [
        "#### Exercise 1: Implement Epsilon-Greedy\n",
        "\n",
        "In this exercise you will implement the epsilon-greedy algorithm for deciding which action to take from a set of possible actions given their value function and a probability $\\epsilon$ of simply chosing one at random. \n",
        "\n",
        "TIP: You may find [`np.random.random`](https://numpy.org/doc/stable/reference/random/generated/numpy.random.random.html), [`np.random.choice`](https://numpy.org/doc/stable/reference/random/generated/numpy.random.choice.html), and [`np.argmax`](https://numpy.org/doc/stable/reference/generated/numpy.argmax.html) useful here."
      ]
    },
    {
      "cell_type": "code",
      "metadata": {
        "id": "PaF4ohh7TgRp"
      },
      "source": [
        "def epsilon_greedy(q, epsilon):\n",
        "  \"\"\"Epsilon-greedy policy: selects the maximum value action with probabilty\n",
        "  (1-epsilon) and selects randomly with epsilon probability.\n",
        "\n",
        "  Args:\n",
        "    q (ndarray): an array of action values\n",
        "    epsilon (float): probability of selecting an action randomly\n",
        "\n",
        "  Returns:\n",
        "    int: the chosen action\n",
        "  \"\"\"\n",
        "  #####################################################################\n",
        "  ## TODO for students: implement the epsilon greedy decision algorithm\n",
        "  # Fill out function and remove\n",
        "  raise NotImplementedError(\"Student excercise: implement the epsilon greedy decision algorithm\")\n",
        "  #####################################################################\n",
        "  # write a boolean expression that determines if we should take the best action\n",
        "  be_greedy = ...\n",
        "  if be_greedy:\n",
        "    # write an expression for selecting the best action from the action values\n",
        "    action = ...\n",
        "  else:\n",
        "    # write an expression for selecting a random action\n",
        "    action = ...\n",
        "\n",
        "  return action\n",
        "\n",
        "\n",
        "# Uncomment once the epsilon_greedy function is complete\n",
        "# q = [-2, 5, 0, 1]\n",
        "# epsilon = 0.1\n",
        "# plot_choices(q, epsilon, epsilon_greedy)"
      ],
      "execution_count": null,
      "outputs": []
    },
    {
      "cell_type": "markdown",
      "metadata": {
        "outputId": "ba6b5634-88e4-4630-c3bd-df66a9964b8c",
        "id": "Xd2M0M8PTgRp"
      },
      "source": [
        "*Example output:*\n",
        "\n",
        "<img alt='Solution hint' align='left' width=558 height=414 src=https://raw.githubusercontent.com/NeuromatchAcademy/course-content/master/tutorials/W2D5_ReinforcementLearning/static/W2D5_Tutorial2_Solution_6f3c3877_0.png>\n",
        "\n"
      ]
    },
    {
      "cell_type": "markdown",
      "metadata": {
        "id": "oyaNOJtYTgRq"
      },
      "source": [
        "This is what we should expect, that the action with the largest value (action 1) is selected about (1-$\\epsilon$) of the time, or 90% for $\\epsilon = 0.1$, and the remaining 10% is split evenly amongst the other options. Use the demo below to explore how changing $\\epsilon$ affects the distribution of selected actions."
      ]
    },
    {
      "cell_type": "markdown",
      "metadata": {
        "id": "Q1ELJHQwTgRq"
      },
      "source": [
        "#### Interactive Demo: Changing Epsilon\n",
        "\n",
        "Epsilon is our one parameter for balancing exploitation and exploration.  Given a set of values $q = [-2, 5, 0, 1]$, use the widget below to see how changing $\\epsilon$ influences our selection of the max value 5 (action = 1) vs the others. \n",
        "\n",
        "At the extremes of its range (0 and 1), the $\\epsilon$-greedy policy reproduces two other policies. What are they?"
      ]
    },
    {
      "cell_type": "code",
      "metadata": {
        "cellView": "form",
        "id": "Q-gDY7dXTgRq"
      },
      "source": [
        "#@title\n",
        "\n",
        "#@markdown Make sure you execute this cell to enable the widget!\n",
        "\n",
        "@widgets.interact(epsilon=widgets.FloatSlider(0.1, min=0.0, max=1.0))\n",
        "def explore_epilson_values(epsilon=0.1):\n",
        "  q = [-2, 5, 0, 1]\n",
        "  plot_choices(q, epsilon, epsilon_greedy, rng_seed=None)"
      ],
      "execution_count": null,
      "outputs": []
    },
    {
      "cell_type": "markdown",
      "metadata": {
        "id": "RU_EepRPTgRr"
      },
      "source": [
        "---\n",
        "## Section 3: Learning from Rewards\n",
        "\n",
        "Now that we have a policy for deciding what to do, how do we learn from our actions?\n",
        "\n",
        "One way to do this is just keep a record of every result we ever got and use the averages for each action. If we have a potentially very long running episode, the computational cost of keeping all these values and recomputing the mean over and over again isn't ideal. Instead we can use a streaming mean calculation, which looks like this:\n",
        "\n",
        "\\begin{align}\n",
        "q_{t+1}(a) \\leftarrow q_{t}(a) + \\frac{1}{n_t} (r_{t} - q_{t}(a))\n",
        "\\end{align}\n",
        "\n",
        "where our action-value function $q_t(a)$ is the mean of the rewards seen so far, $n_t$ is the number of actions taken by time $t$, and $r_t$ is the reward just received for taking action $a$.\n",
        "\n",
        "This still requires us to remember how many actions we've taken, so let's generalize this a bit further and replace the action total with a general parameter $\\alpha$, which we will call the learning rate\n",
        "\n",
        "\\begin{align}\n",
        "q_{t+1}(a) \\leftarrow q_{t}(a) + \\alpha (r_{t} - q_{t}(a)).\n",
        "\\end{align}"
      ]
    },
    {
      "cell_type": "markdown",
      "metadata": {
        "id": "UTqzS53HTgRs"
      },
      "source": [
        "### Exercise 2: Updating Action Values\n",
        "\n",
        "In this exercise you will implement the action-value update rule above. The function will take in the action-value function represented as an array `q`, the action taken, the reward received, and the learning rate, `alpha`. The function will return the updated value for the selection action."
      ]
    },
    {
      "cell_type": "code",
      "metadata": {
        "id": "0xWI_hzYTgRs"
      },
      "source": [
        "def update_action_value(q, action, reward, alpha):\n",
        "  \"\"\" Compute the updated action value given the learning rate and observed\n",
        "  reward.\n",
        "\n",
        "  Args:\n",
        "    q (ndarray): an array of action values\n",
        "    action (int): the action taken\n",
        "    reward (float): the reward received for taking the action\n",
        "    alpha (float): the learning rate\n",
        "\n",
        "  Returns:\n",
        "    float: the updated value for the selected action\n",
        "  \"\"\"\n",
        "  #####################################################\n",
        "  ## TODO for students: compute the action value update\n",
        "  # Fill out function and remove\n",
        "  raise NotImplementedError(\"Student excercise: compute the action value update\")\n",
        "  #####################################################\n",
        "  # write an expression for the updated action value\n",
        "  value = ...\n",
        "  return value\n",
        "\n",
        "\n",
        "# Uncomment once the update_action_value function is complete\n",
        "# q = [-2, 5, 0, 1]\n",
        "# action = 2\n",
        "# print(f\"Original q({action}) value = {q[action]}\")\n",
        "# q[action] = update_action_value(q, 2, 10, 0.01)\n",
        "# print(f\"Updated q({action}) value = {q[action]}\")"
      ],
      "execution_count": null,
      "outputs": []
    },
    {
      "cell_type": "markdown",
      "metadata": {
        "id": "7FQdGhSrTgRt"
      },
      "source": [
        "---\n",
        "## Section 4: Solving Multi-Armed Bandits\n",
        "\n",
        "Now that we have both a policy and a learning rule, we can combine these to solve our original multi-armed bandit task. Recall that we have some number of arms that give rewards drawn from Gaussian distributions with unknown mean and unit variance, and our goal is to find the arm with the highest mean.\n",
        "\n",
        "First, let's see how we will simulate this environment by reading through the annotated code below."
      ]
    },
    {
      "cell_type": "code",
      "metadata": {
        "id": "6F0PD996TgRu"
      },
      "source": [
        "def multi_armed_bandit(n_arms, epsilon, alpha, n_steps):\n",
        "  \"\"\" A Gaussian multi-armed bandit using an epsilon-greedy policy. For each\n",
        "  action, rewards are randomly sampled from normal distribution, with a mean\n",
        "  associated with that arm and unit variance.\n",
        "\n",
        "  Args:\n",
        "    n_arms (int): number of arms or actions\n",
        "    epsilon (float): probability of selecting an action randomly\n",
        "    alpha (float): the learning rate\n",
        "    n_steps (int): number of steps to evaluate\n",
        "\n",
        "  Returns:\n",
        "    dict: a dictionary containing the action values, actions, and rewards from\n",
        "    the evaluation along with the true arm parameters mu and the optimality of\n",
        "    the chosen actions.\n",
        "  \"\"\"\n",
        "  # Gaussian bandit parameters\n",
        "  mu = np.random.normal(size=n_arms)\n",
        "\n",
        "  # evaluation and reporting state\n",
        "  q = np.zeros(n_arms)\n",
        "  qs = np.zeros((n_steps, n_arms))\n",
        "  rewards = np.zeros(n_steps)\n",
        "  actions = np.zeros(n_steps)\n",
        "  optimal = np.zeros(n_steps)\n",
        "\n",
        "  # run the bandit\n",
        "  for t in range(n_steps):\n",
        "    # choose an action\n",
        "    action = epsilon_greedy(q, epsilon)\n",
        "    actions[t] = action\n",
        "\n",
        "    # copmute rewards for all actions\n",
        "    all_rewards = np.random.normal(mu)\n",
        "    # observe the reward for the chosen action\n",
        "    reward = all_rewards[action]\n",
        "    rewards[t] = reward\n",
        "    # was it the best possible choice?\n",
        "    optimal_action = np.argmax(all_rewards)\n",
        "    optimal[t] = action == optimal_action\n",
        "\n",
        "    # update the action value\n",
        "    q[action] = update_action_value(q, action, reward, alpha)\n",
        "    qs[t] = q\n",
        "\n",
        "  results = {\n",
        "      'qs': qs,\n",
        "      'actions': actions,\n",
        "      'rewards': rewards,\n",
        "      'mu': mu,\n",
        "      'optimal': optimal\n",
        "  }\n",
        "\n",
        "  return results"
      ],
      "execution_count": null,
      "outputs": []
    },
    {
      "cell_type": "markdown",
      "metadata": {
        "id": "h5Bj8k_ATgRu"
      },
      "source": [
        "We can use our multi-armed bandit method to evaluate how our epsilon-greedy policy and learning rule perform at solving the task. First we will set our environment to have 10 arms and our agent parameters to $\\epsilon=0.1$ and $\\alpha=0.01$. In order to get a good sense of the agent's performance, we will run the episode for 1000 steps."
      ]
    },
    {
      "cell_type": "code",
      "metadata": {
        "id": "sa8B9Mq6TgRu"
      },
      "source": [
        "# set for reproducibility, comment out / change seed value for different results\n",
        "np.random.seed(1)\n",
        "\n",
        "n_arms = 10\n",
        "epsilon = 0.1\n",
        "alpha = 0.01\n",
        "n_steps = 1000\n",
        "\n",
        "results = multi_armed_bandit(n_arms, epsilon, alpha, n_steps)\n",
        "\n",
        "fig, (ax1, ax2) = plt.subplots(ncols=2, figsize=(16, 6))\n",
        "ax1.plot(results['rewards'])\n",
        "ax1.set(title=f'Observed Reward ($\\epsilon$={epsilon}, $\\\\alpha$={alpha})',\n",
        "        xlabel='step', ylabel='reward')\n",
        "ax2.plot(results['qs'])\n",
        "ax2.set(title=f'Action Values ($\\epsilon$={epsilon}, $\\\\alpha$={alpha})',\n",
        "        xlabel='step', ylabel='value')\n",
        "ax2.legend(range(n_arms));"
      ],
      "execution_count": null,
      "outputs": []
    },
    {
      "cell_type": "markdown",
      "metadata": {
        "id": "I0camTljTgRv"
      },
      "source": [
        "Alright, we got some rewards that are kind of all over the place, but the agent seemed to settle in on the first arm as the preferred choice of action relatively quickly. Let's see how well we did at recovering the true means of the Gaussian random variables behind the arms."
      ]
    },
    {
      "cell_type": "code",
      "metadata": {
        "id": "7ec9tNdUTgRw"
      },
      "source": [
        "fig, ax = plt.subplots()\n",
        "ax.plot(results['mu'], label='latent')\n",
        "ax.plot(results['qs'][-1], label='learned')\n",
        "ax.set(title=f'$\\epsilon$={epsilon}, $\\\\alpha$={alpha}',\n",
        "       xlabel='action', ylabel='value')\n",
        "ax.legend();"
      ],
      "execution_count": null,
      "outputs": []
    },
    {
      "cell_type": "markdown",
      "metadata": {
        "id": "xRVIXxtjTgRw"
      },
      "source": [
        "Well, we seem to have found a very good estimate for action 0, but most of the others are not great. In fact, we can see the effect of the local maxima trap at work -- the greedy part of our algorithm locked onto action 0, which is actually the 2nd best choice to action 6. Since these are the means of Gaussian random variables, we can see that the overlap between the two would be quite high, so even if we did explore action 6, we may draw a sample that is still lower than our estimate for action 0.\n",
        "\n",
        "However, this was just one choice of parameters. Perhaps there is a better combination?\n",
        "\n"
      ]
    },
    {
      "cell_type": "markdown",
      "metadata": {
        "id": "E593zbeJTgRw"
      },
      "source": [
        "### Interactive Demo: Changing Epsilon and Alpha\n",
        "\n",
        "Use the widget below to explore how varying the values of $\\epsilon$ (exploitation-exploration tradeoff), $\\alpha$ (learning rate), and even the number of actions $k$, changes the behavior of our agent."
      ]
    },
    {
      "cell_type": "code",
      "metadata": {
        "cellView": "form",
        "id": "cAQ6SJ_vTgRx"
      },
      "source": [
        "#@title\n",
        "\n",
        "#@markdown Make sure you execute this cell to enable the widget!\n",
        "\n",
        "@widgets.interact_manual(k=widgets.IntSlider(10, min=2, max=15),\n",
        "                         epsilon=widgets.FloatSlider(0.1, min=0.0, max=1.0),\n",
        "                         alpha=widgets.FloatLogSlider(0.01, min=-3, max=0))\n",
        "def explore_bandit_parameters(k=10, epsilon=0.1, alpha=0.001):\n",
        "  results = multi_armed_bandit(k, epsilon, alpha, 1000)\n",
        "  plot_multi_armed_bandit_results(results)"
      ],
      "execution_count": null,
      "outputs": []
    },
    {
      "cell_type": "markdown",
      "metadata": {
        "id": "n228WKtrTgRx"
      },
      "source": [
        "While we can see how changing the epsilon and alpha values impact the agent's behavior, this doesn't give as a great sense of which combination is optimal. Due to the stochastic nature of both our rewards and our policy, a single trial run isn't sufficient to give us this information. Let's run mulitple trials and compare the average performance.\n",
        "\n",
        "First we will look at differet values for $\\epsilon \\in [0.0, 0.1, 0.2]$ to a fixed $\\alpha=0.1$. We will run 200 trials as a nice balance between speed and accuracy."
      ]
    },
    {
      "cell_type": "code",
      "metadata": {
        "id": "dQaTt3CNTgRy"
      },
      "source": [
        "# set for reproducibility, comment out / change seed value for different results\n",
        "np.random.seed(1)\n",
        "\n",
        "epsilons = [0.0, 0.1, 0.2]\n",
        "alpha = 0.1\n",
        "n_trials = 200\n",
        "trial_rewards = np.zeros((len(epsilons), n_trials, n_steps))\n",
        "trial_optimal = np.zeros((len(epsilons), n_trials, n_steps))\n",
        "for i, epsilon in enumerate(epsilons):\n",
        "  for n in range(n_trials):\n",
        "    results = multi_armed_bandit(n_arms, epsilon, alpha, n_steps)\n",
        "    trial_rewards[i, n] = results['rewards']\n",
        "    trial_optimal[i, n] = results['optimal']\n",
        "\n",
        "labels = [f'$\\epsilon$={e}' for e in epsilons]\n",
        "fixed = f'$\\\\alpha$={alpha}'\n",
        "plot_parameter_performance(labels, fixed, trial_rewards, trial_optimal)"
      ],
      "execution_count": null,
      "outputs": []
    },
    {
      "cell_type": "markdown",
      "metadata": {
        "id": "aY6Mb47XTgRy"
      },
      "source": [
        "On the left we have plotted the average reward over time, and we see that while $\\epsilon=0$ (the greedy policy) does well initially, $\\epsilon=0.1$ starts to do slightly better in the long run, while $\\epsilon=0.2$ does the worst. Looking on the right, we see the percentage of times the optimal action (the best possible choice at time $t$) was taken, and here again we see a similar pattern of $\\epsilon=0.1$ starting out a bit slower but eventually having a slight edge in the longer run.\n",
        "\n",
        "We can also do the same for the learning rates. We will evaluate $\\alpha \\in [0.01, 0.1, 1.0]$ to a fixed $\\epsilon=0.1$."
      ]
    },
    {
      "cell_type": "code",
      "metadata": {
        "id": "Azg5vWxoTgRy"
      },
      "source": [
        "# set for reproducibility, comment out / change seed value for different results\n",
        "np.random.seed(1)\n",
        "\n",
        "epsilon = 0.1\n",
        "alphas = [0.01, 0.1, 1.0]\n",
        "n_trials = 200\n",
        "trial_rewards = np.zeros((len(epsilons), n_trials, n_steps))\n",
        "trial_optimal = np.zeros((len(epsilons), n_trials, n_steps))\n",
        "for i, alpha in enumerate(alphas):\n",
        "  for n in range(n_trials):\n",
        "    results = multi_armed_bandit(n_arms, epsilon, alpha, n_steps)\n",
        "    trial_rewards[i, n] = results['rewards']\n",
        "    trial_optimal[i, n] = results['optimal']\n",
        "\n",
        "labels = [f'$\\\\alpha$={a}' for a in alphas]\n",
        "fixed = f'$\\epsilon$={epsilon}'\n",
        "plot_parameter_performance(labels, fixed, trial_rewards, trial_optimal)"
      ],
      "execution_count": null,
      "outputs": []
    },
    {
      "cell_type": "markdown",
      "metadata": {
        "id": "sIsGlLLZTgRz"
      },
      "source": [
        "Again we see a balance between an effective learning rate. $\\alpha=0.01$ is too weak to quickly incorporate good values, while $\\alpha=1$ is too strong likely resulting in high variance in values due to the Gaussian nature of the rewards."
      ]
    },
    {
      "cell_type": "markdown",
      "metadata": {
        "id": "ms9SoT6uTgR0"
      },
      "source": [
        "---\n",
        "## Summary\n",
        "\n",
        "In this tutorial you implemented both the epsilon-greedy descision algorithm and a learning rule for solving a multi-armed bandit scenario. You saw how balancing exploitation and exploration in action selection is crtical in finding optimal solutions. You also saw how choosing an appropriate learning rate determines how well an agent can generalize the information they receive from rewards.\n"
      ]
    },
    {
      "cell_type": "markdown",
      "metadata": {
        "id": "_oDLiBYVTgR1"
      },
      "source": [
        "---\n",
        "# Part 3\n",
        "## Objectives\n",
        "  \n",
        "In this part you will learn how to act in the more realistic setting of sequential decisions, formalized by Markov Decision Processes (MDPs). In a sequential decision problem, the actions executed in one state not only may lead to immediate rewards (as in a bandit problem), but may also affect the states experienced next (unlike a bandit problem). Each individual action may therefore affect affect all future rewards. Thus, making decisions in this setting requires considering each action in terms of their expected **cumulative** future reward.\n",
        "\n",
        "We will consider here the example of spatial navigation, where actions (movements) in one state (location) affect the states experienced next, and an agent might need to execute a whole sequence of actions before a reward is obtained.\n",
        "\n",
        "By the end of this part, you will learn\n",
        "* what grid worlds are and how they help in evaluating simple reinforcement learning agents\n",
        "* the basics of the Q-learning algorithm for estimating action values\n",
        "* how the concept of exploration and exploitation, reviewed in the bandit case, also applies to the sequential decision setting"
      ]
    },
    {
      "cell_type": "code",
      "metadata": {
        "cellView": "both",
        "id": "f84yJc0VTgR2"
      },
      "source": [
        "# Imports\n",
        "import numpy as np\n",
        "import matplotlib.pyplot as plt\n",
        "from scipy.signal import convolve as conv"
      ],
      "execution_count": null,
      "outputs": []
    },
    {
      "cell_type": "code",
      "metadata": {
        "cellView": "form",
        "id": "KAwBXZbRTgR2"
      },
      "source": [
        "#@title Figure settings\n",
        "%config InlineBackend.figure_format = 'retina'\n",
        "plt.style.use(\"https://raw.githubusercontent.com/NeuromatchAcademy/course-content/master/nma.mplstyle\")"
      ],
      "execution_count": null,
      "outputs": []
    },
    {
      "cell_type": "code",
      "metadata": {
        "cellView": "form",
        "id": "BrCV57MqTgR2"
      },
      "source": [
        "#@title Helper functions\n",
        "def epsilon_greedy(q, epsilon):\n",
        "  \"\"\"Epsilon-greedy policy: selects the maximum value action with probabilty\n",
        "  (1-epsilon) and selects randomly with epsilon probability.\n",
        "\n",
        "  Args:\n",
        "    q (ndarray): an array of action values\n",
        "    epsilon (float): probability of selecting an action randomly\n",
        "\n",
        "  Returns:\n",
        "    int: the chosen action\n",
        "  \"\"\"\n",
        "  if np.random.random() > epsilon:\n",
        "    action = np.argmax(q)\n",
        "  else:\n",
        "    action = np.random.choice(len(q))\n",
        "\n",
        "  return action\n",
        "\n",
        "\n",
        "class CliffWorld:\n",
        "  \"\"\"\n",
        "  World: Cliff world.\n",
        "  40 states (4-by-10 grid world).\n",
        "  The mapping from state to the grids are as follows:\n",
        "  30 31 32 ... 39\n",
        "  20 21 22 ... 29\n",
        "  10 11 12 ... 19\n",
        "  0  1  2  ...  9\n",
        "  0 is the starting state (S) and 9 is the goal state (G).\n",
        "  Actions 0, 1, 2, 3 correspond to right, up, left, down.\n",
        "  Moving anywhere from state 9 (goal state) will end the session.\n",
        "  Taking action down at state 11-18 will go back to state 0 and incur a\n",
        "      reward of -100.\n",
        "  Landing in any states other than the goal state will incur a reward of -1.\n",
        "  Going towards the border when already at the border will stay in the same\n",
        "      place.\n",
        "  \"\"\"\n",
        "  def __init__(self):\n",
        "    self.name = \"cliff_world\"\n",
        "    self.n_states = 40\n",
        "    self.n_actions = 4\n",
        "    self.dim_x = 10\n",
        "    self.dim_y = 4\n",
        "    self.init_state = 0\n",
        "\n",
        "  def get_outcome(self, state, action):\n",
        "    if state == 9:  # goal state\n",
        "      reward = 0\n",
        "      next_state = None\n",
        "      return next_state, reward\n",
        "    reward = -1  # default reward value\n",
        "    if action == 0:  # move right\n",
        "      next_state = state + 1\n",
        "      if state % 10 == 9:  # right border\n",
        "        next_state = state\n",
        "      elif state == 0:  # start state (next state is cliff)\n",
        "        next_state = None\n",
        "        reward = -100\n",
        "    elif action == 1:  # move up\n",
        "      next_state = state + 10\n",
        "      if state >= 30:  # top border\n",
        "        next_state = state\n",
        "    elif action == 2:  # move left\n",
        "      next_state = state - 1\n",
        "      if state % 10 == 0:  # left border\n",
        "        next_state = state\n",
        "    elif action == 3:  # move down\n",
        "      next_state = state - 10\n",
        "      if state >= 11 and state <= 18:  # next is cliff\n",
        "        next_state = None\n",
        "        reward = -100\n",
        "      elif state <= 9:  # bottom border\n",
        "        next_state = state\n",
        "    else:\n",
        "      print(\"Action must be between 0 and 3.\")\n",
        "      next_state = None\n",
        "      reward = None\n",
        "    return int(next_state) if next_state is not None else None, reward\n",
        "\n",
        "  def get_all_outcomes(self):\n",
        "    outcomes = {}\n",
        "    for state in range(self.n_states):\n",
        "      for action in range(self.n_actions):\n",
        "        next_state, reward = self.get_outcome(state, action)\n",
        "        outcomes[state, action] = [(1, next_state, reward)]\n",
        "    return outcomes\n",
        "\n",
        "\n",
        "def learn_environment(env, learning_rule, params, max_steps, n_episodes):\n",
        "  # Start with a uniform value function\n",
        "  value = np.ones((env.n_states, env.n_actions))\n",
        "\n",
        "  # Run learning\n",
        "  reward_sums = np.zeros(n_episodes)\n",
        "\n",
        "  # Loop over episodes\n",
        "  for episode in range(n_episodes):\n",
        "    state = env.init_state  # initialize state\n",
        "    reward_sum = 0\n",
        "\n",
        "    for t in range(max_steps):\n",
        "      # choose next action\n",
        "      action = epsilon_greedy(value[state], params['epsilon'])\n",
        "\n",
        "      # observe outcome of action on environment\n",
        "      next_state, reward = env.get_outcome(state, action)\n",
        "\n",
        "      # update value function\n",
        "      value = learning_rule(state, action, reward, next_state, value, params)\n",
        "\n",
        "      # sum rewards obtained\n",
        "      reward_sum += reward\n",
        "\n",
        "      if next_state is None:\n",
        "          break  # episode ends\n",
        "      state = next_state\n",
        "\n",
        "    reward_sums[episode] = reward_sum\n",
        "\n",
        "  return value, reward_sums\n",
        "\n",
        "\n",
        "def plot_state_action_values(env, value, ax=None):\n",
        "  \"\"\"\n",
        "  Generate plot showing value of each action at each state.\n",
        "  \"\"\"\n",
        "  if ax is None:\n",
        "    fig, ax = plt.subplots()\n",
        "\n",
        "  for a in range(env.n_actions):\n",
        "    ax.plot(range(env.n_states), value[:, a], marker='o', linestyle='--')\n",
        "  ax.set(xlabel='States', ylabel='Values')\n",
        "  ax.legend(['R','U','L','D'], loc='lower right')\n",
        "\n",
        "\n",
        "def plot_quiver_max_action(env, value, ax=None):\n",
        "  \"\"\"\n",
        "  Generate plot showing action of maximum value or maximum probability at\n",
        "    each state (not for n-armed bandit or cheese_world).\n",
        "  \"\"\"\n",
        "  if ax is None:\n",
        "    fig, ax = plt.subplots()\n",
        "\n",
        "  X = np.tile(np.arange(env.dim_x), [env.dim_y,1]) + 0.5\n",
        "  Y = np.tile(np.arange(env.dim_y)[::-1][:,np.newaxis], [1,env.dim_x]) + 0.5\n",
        "  which_max = np.reshape(value.argmax(axis=1), (env.dim_y,env.dim_x))\n",
        "  which_max = which_max[::-1,:]\n",
        "  U = np.zeros(X.shape)\n",
        "  V = np.zeros(X.shape)\n",
        "  U[which_max == 0] = 1\n",
        "  V[which_max == 1] = 1\n",
        "  U[which_max == 2] = -1\n",
        "  V[which_max == 3] = -1\n",
        "\n",
        "  ax.quiver(X, Y, U, V)\n",
        "  ax.set(\n",
        "      title='Maximum value/probability actions',\n",
        "      xlim=[-0.5, env.dim_x+0.5],\n",
        "      ylim=[-0.5, env.dim_y+0.5],\n",
        "  )\n",
        "  ax.set_xticks(np.linspace(0.5, env.dim_x-0.5, num=env.dim_x))\n",
        "  ax.set_xticklabels([\"%d\" % x for x in np.arange(env.dim_x)])\n",
        "  ax.set_xticks(np.arange(env.dim_x+1), minor=True)\n",
        "  ax.set_yticks(np.linspace(0.5, env.dim_y-0.5, num=env.dim_y))\n",
        "  ax.set_yticklabels([\"%d\" % y for y in np.arange(0, env.dim_y*env.dim_x,\n",
        "                                                  env.dim_x)])\n",
        "  ax.set_yticks(np.arange(env.dim_y+1), minor=True)\n",
        "  ax.grid(which='minor',linestyle='-')\n",
        "\n",
        "\n",
        "def plot_heatmap_max_val(env, value, ax=None):\n",
        "  \"\"\"\n",
        "  Generate heatmap showing maximum value at each state\n",
        "  \"\"\"\n",
        "  if ax is None:\n",
        "    fig, ax = plt.subplots()\n",
        "\n",
        "  if value.ndim == 1:\n",
        "      value_max = np.reshape(value, (env.dim_y,env.dim_x))\n",
        "  else:\n",
        "      value_max = np.reshape(value.max(axis=1), (env.dim_y,env.dim_x))\n",
        "  value_max = value_max[::-1,:]\n",
        "\n",
        "  im = ax.imshow(value_max, aspect='auto', interpolation='none', cmap='afmhot')\n",
        "  ax.set(title='Maximum value per state')\n",
        "  ax.set_xticks(np.linspace(0, env.dim_x-1, num=env.dim_x))\n",
        "  ax.set_xticklabels([\"%d\" % x for x in np.arange(env.dim_x)])\n",
        "  ax.set_yticks(np.linspace(0, env.dim_y-1, num=env.dim_y))\n",
        "  if env.name != 'windy_cliff_grid':\n",
        "      ax.set_yticklabels(\n",
        "          [\"%d\" % y for y in np.arange(\n",
        "              0, env.dim_y*env.dim_x, env.dim_x)][::-1])\n",
        "  return im\n",
        "\n",
        "\n",
        "def plot_rewards(n_episodes, rewards, average_range=10, ax=None):\n",
        "  \"\"\"\n",
        "  Generate plot showing total reward accumulated in each episode.\n",
        "  \"\"\"\n",
        "  if ax is None:\n",
        "    fig, ax = plt.subplots()\n",
        "\n",
        "  smoothed_rewards = (conv(rewards, np.ones(average_range), mode='same')\n",
        "                      / average_range)\n",
        "\n",
        "  ax.plot(range(0, n_episodes, average_range),\n",
        "          smoothed_rewards[0:n_episodes:average_range],\n",
        "          marker='o', linestyle='--')\n",
        "  ax.set(xlabel='Episodes', ylabel='Total reward')\n",
        "\n",
        "\n",
        "def plot_performance(env, value, reward_sums):\n",
        "  fig, axes = plt.subplots(nrows=2, ncols=2, figsize=(16, 12))\n",
        "  plot_state_action_values(env, value, ax=axes[0,0])\n",
        "  plot_quiver_max_action(env, value, ax=axes[0,1])\n",
        "  plot_rewards(n_episodes, reward_sums, ax=axes[1,0])\n",
        "  im = plot_heatmap_max_val(env, value, ax=axes[1,1])\n",
        "  fig.colorbar(im)"
      ],
      "execution_count": null,
      "outputs": []
    },
    {
      "cell_type": "markdown",
      "metadata": {
        "id": "sJotdgxYTgR3"
      },
      "source": [
        "---\n",
        "## Section 1: Markov Decision Processes"
      ]
    },
    {
      "cell_type": "code",
      "metadata": {
        "cellView": "form",
        "colab": {
          "base_uri": "https://localhost:8080/",
          "height": 518
        },
        "id": "cOUMja6nTgR3",
        "outputId": "0f00aa5d-7beb-442a-da6f-4a20e16cbc9e"
      },
      "source": [
        "#@title Video 1: MDPs and Q-learning\n",
        "# Insert the ID of the corresponding youtube video\n",
        "from IPython.display import YouTubeVideo\n",
        "video = YouTubeVideo(id=\"8yvwMrUQJOU\", width=854, height=480, fs=1)\n",
        "print(\"Video available at https://youtu.be/\" + video.id)\n",
        "video"
      ],
      "execution_count": null,
      "outputs": [
        {
          "output_type": "stream",
          "text": [
            "Video available at https://youtu.be/8yvwMrUQJOU\n"
          ],
          "name": "stdout"
        },
        {
          "output_type": "execute_result",
          "data": {
            "text/html": [
              "\n",
              "        <iframe\n",
              "            width=\"854\"\n",
              "            height=\"480\"\n",
              "            src=\"https://www.youtube.com/embed/8yvwMrUQJOU?fs=1\"\n",
              "            frameborder=\"0\"\n",
              "            allowfullscreen\n",
              "        ></iframe>\n",
              "        "
            ],
            "text/plain": [
              "<IPython.lib.display.YouTubeVideo at 0x7f826b06fb00>"
            ],
            "image/jpeg": "[encoded data removed]"
          },
          "metadata": {
            "tags": []
          },
          "execution_count": 3
        }
      ]
    },
    {
      "cell_type": "markdown",
      "metadata": {
        "id": "-tmyxxGlTgR4"
      },
      "source": [
        "### Section 1.1: Grid Worlds\n",
        "\n",
        "As pointed out, bandits only have a single state and immediate rewards for our actions. Many problems we are interested in have multiple states and delayed rewards, i.e. we won't know if the choices we made will pay off over time, or which actions we took contributed to the outcomes we observed.\n",
        "\n",
        "In order to explore these ideas, we turn the a common problem setting: the grid world. Grid worlds are simple environments where each state corresponds to a tile on a 2D grid, and the only actions the agent can take are to move up, down, left, or right across the grid tiles. The agent's job is almost always to find a way to a goal tile in the most direct way possible while overcoming some maze or other obstacles, either static or dynamic.\n",
        "\n",
        "For our discussion we will be looking at the classic Cliff World, or Cliff Walker, environment. This is a 4x10 grid with a starting position in the lower-left and the goal position in the lower-right. Every tile between these two is the \"cliff\", and should the agent enter the cliff, they will receive a -100 reward and be sent back to the starting position. Every tile other than the cliff produces a -1 reward when entered. The goal tile ends the episode after taking any action from it.\n",
        "\n",
        "<img alt=\"CliffWorld\" width=\"577\" height=\"308\" src=\"https://github.com/NeuromatchAcademy/course-content/blob/master/tutorials/W2D5_ReinforcementLearning/static/W2D5_Tutorial3_CliffWorld.png?raw=true\">\n",
        "\n",
        "Given these conditions, the maximum achievable reward is -11 (1 up, 9 right, 1 down). Using negative rewards is a common technique to encourage the agent to move and seek out the goal state as fast as possible."
      ]
    },
    {
      "cell_type": "markdown",
      "metadata": {
        "id": "ZYIoyF4kTgR4"
      },
      "source": [
        "---\n",
        "## Section 2: Q-Learning\n",
        "\n",
        "Now that we have our environment, how can we solve it? \n",
        "\n",
        "One of the most famous algorithms for estimating action values (aka Q-values) is the Temporal Differences (TD) **control** algorithm known as *Q-learning* (Watkins, 1989). \n",
        "\n",
        "\\begin{align}\n",
        "Q(s_t,a_t) \\leftarrow Q(s_t,a_t) + \\alpha \\big(r_t + \\gamma\\max_\\limits{a} Q(s_{t+1},a_{t+1}) - Q(s_t,a_t)\\big)\n",
        "\\end{align}\n",
        "\n",
        "where $Q(s,a)$ is the value function for action $a$ at state $s$, $\\alpha$ is the learning rate, $r$ is the reward, and $\\gamma$ is the temporal discount rate.\n",
        "\n",
        "The expression $r_t + \\gamma\\max_\\limits{a} Q(s_{t+1},a_{t+1})$ is referred to as the TD target while the full expression \n",
        "\\begin{align}\n",
        "r_t + \\gamma\\max_\\limits{a} Q(s_{t+1},a_{t+1}) - Q(s_t,a_t),\n",
        "\\end{align}\n",
        "i.e. the difference between the TD target and the current Q-value, is referred to as the TD error, or reward prediction error.\n",
        "\n",
        "Because of the max operator used to select the optimal Q-value in the TD target, Q-learning directly estimates the optimal action value, i.e. the cumulative future reward that would be obtained if the agent behaved optimally, regardless of the policy currently followed by the agent. For this reason, Q-learning is referred to as an **off-policy** method."
      ]
    },
    {
      "cell_type": "markdown",
      "metadata": {
        "id": "tL4wN9_RTgR4"
      },
      "source": [
        "### Exercise 1: Implement the Q-learning algorithm\n",
        "\n",
        "In this exercise you will implement the Q-learning update rule described above. It takes in as arguments the previous state $s_t$, the action $a_t$ taken, the reward received $r_t$, the current state $s_{t+1}$, the Q-value table, and a dictionary of parameters that contain the learning rate $\\alpha$ and discount factor $\\gamma$. The method returns the updated Q-value table. For the parameter dictionary, $\\alpha$: `params['alpha']` and $\\gamma$: `params['gamma']`. \n"
      ]
    },
    {
      "cell_type": "code",
      "metadata": {
        "id": "17jPzkhFTgR5"
      },
      "source": [
        "def q_learning(state, action, reward, next_state, value, params):\n",
        "  \"\"\"Q-learning: updates the value function and returns it.\n",
        "\n",
        "  Args:\n",
        "    state (int): the current state identifier\n",
        "    action (int): the action taken\n",
        "    reward (float): the reward received\n",
        "    next_state (int): the transitioned to state identifier\n",
        "    value (ndarray): current value function of shape (n_states, n_actions)\n",
        "    params (dict): a dictionary containing the default parameters\n",
        "\n",
        "  Returns:\n",
        "    ndarray: the updated value function of shape (n_states, n_actions)\n",
        "  \"\"\"\n",
        "  # Q-value of current state-action pair\n",
        "  q = value[state, action]\n",
        "\n",
        "  ##########################################################\n",
        "  ## TODO for students: implement the Q-learning update rule\n",
        "  # Fill out function and remove\n",
        "  raise NotImplementedError(\"Student excercise: implement the Q-learning update rule\")\n",
        "  ##########################################################\n",
        "\n",
        "  # write an expression for finding the maximum Q-value at the current state\n",
        "  if next_state is None:\n",
        "    max_next_q = 0\n",
        "  else:\n",
        "    max_next_q = ...\n",
        "\n",
        "  # write the expression to compute the TD error\n",
        "  td_error = ...\n",
        "  # write the expression that updates the Q-value for the state-action pair\n",
        "  value[state, action] = ...\n",
        "\n",
        "  return value"
      ],
      "execution_count": null,
      "outputs": []
    },
    {
      "cell_type": "markdown",
      "metadata": {
        "id": "IlUy2pZLTgR6"
      },
      "source": [
        "Now that we have our Q-learning algorithm, let's see how it handles learning to solve the Cliff World environment. \n",
        "\n",
        "You will recall from the previous tutorial that a major part of reinforcement learning algorithms are their ability to balance exploitation and exploration. For our Q-learning agent, we again turn to the epsilon-greedy strategy. At each step, the agent will decide with probability $1 - \\epsilon$ to use the best action for the state it is currently in by looking at the value function, otherwise just make a random choice.\n",
        "\n",
        "The process by which our the agent will interact with and learn about the environment is handled for you in the helper function `learn_environment`. This implements the entire learning episode lifecycle of stepping through the state observation, action selection (epsilon-greedy) and execution, reward, and state transition. Feel free to review that code later to see how it all fits together, but for now let's test out our agent."
      ]
    },
    {
      "cell_type": "code",
      "metadata": {
        "id": "eapD_ObTTgR6"
      },
      "source": [
        "# set for reproducibility, comment out / change seed value for different results\n",
        "np.random.seed(1)\n",
        "\n",
        "# parameters needed by our policy and learning rule\n",
        "params = {\n",
        "  'epsilon': 0.1,  # epsilon-greedy policy\n",
        "  'alpha': 0.1,  # learning rate\n",
        "  'gamma': 1.0,  # discount factor\n",
        "}\n",
        "\n",
        "# episodes/trials\n",
        "n_episodes = 500\n",
        "max_steps = 1000\n",
        "\n",
        "# environment initialization\n",
        "env = CliffWorld()\n",
        "\n",
        "# solve Cliff World using Q-learning\n",
        "results = learn_environment(env, q_learning, params, max_steps, n_episodes)\n",
        "value_qlearning, reward_sums_qlearning = results\n",
        "\n",
        "# Plot results\n",
        "plot_performance(env, value_qlearning, reward_sums_qlearning)"
      ],
      "execution_count": null,
      "outputs": []
    },
    {
      "cell_type": "markdown",
      "metadata": {
        "id": "o8K6kzI0TgR6"
      },
      "source": [
        "If all went well, we should see four plots that show different aspects on our agent's learning and progress.\n",
        "\n",
        "* The top left is a representation of the Q-table itself, showing the values for different actions in different states. Notably, going right from the starting state or down when above the cliff is clearly very bad.\n",
        "* The top right figure shows the greedy policy based on the Q-table, i.e. what action would the agent take if it only took its best guess in that state.\n",
        "* The bottom right is the same as the top, only instead of showing the action, it's showing a representation of the maximum Q-value at a particular state.\n",
        "* The bottom left is the actual proof of learning, as we see the total reward steadily increasing after each episode until asymptoting at the maximum possible reward of -11.\n",
        "\n",
        "Feel free to try changing the parameters or random seed and see how the agent's behavior changes."
      ]
    },
    {
      "cell_type": "markdown",
      "metadata": {
        "id": "sXYdwdTpTgR6"
      },
      "source": [
        "---\n",
        "## Summary\n",
        "\n",
        "In this tutorial you implemented a reinforcement learning agent based on Q-learning to solve the Cliff World environment. Q-learning combined the epsilon-greedy approach to exploration-expoitation with a table-based value function to learn the expected future rewards for each state."
      ]
    },
    {
      "cell_type": "markdown",
      "metadata": {
        "id": "kZZwYYp4TgR_"
      },
      "source": [
        "---\n",
        "# Part 4\n",
        "# Objectives\n",
        "  \n",
        "In this part you will implement one of the simplest model-based Reinforcement Learning algorithms, Dyna-Q. You will understand what a world model is, how it can improve the agent's policy, and the situations in which model-based algorithms are more advantagenous than their model-free counterparts.\n",
        "    \n",
        "* You will implement a model-based RL agent, Dyna-Q, that can solve a simple task;\n",
        "* You will investigate the effect of planning on the agent's behavior;\n",
        "* You will compare the behaviors of a model-based and model-free agent in light of an environmental change."
      ]
    },
    {
      "cell_type": "code",
      "metadata": {
        "id": "y3kNXiT0TgSA"
      },
      "source": [
        "# Imports\n",
        "import numpy as np\n",
        "import matplotlib.pyplot as plt\n",
        "from scipy.signal import convolve as conv"
      ],
      "execution_count": null,
      "outputs": []
    },
    {
      "cell_type": "code",
      "metadata": {
        "cellView": "form",
        "id": "GnELwTDOTgSA"
      },
      "source": [
        "#@title Figure settings\n",
        "%config InlineBackend.figure_format = 'retina'\n",
        "plt.style.use(\"https://raw.githubusercontent.com/NeuromatchAcademy/course-content/master/nma.mplstyle\")"
      ],
      "execution_count": null,
      "outputs": []
    },
    {
      "cell_type": "code",
      "metadata": {
        "cellView": "form",
        "id": "Ji_J7fuzTgSA"
      },
      "source": [
        "#@title Helper functions\n",
        "def epsilon_greedy(q, epsilon):\n",
        "  \"\"\"Epsilon-greedy policy: selects the maximum value action with probabilty\n",
        "  (1-epsilon) and selects randomly with epsilon probability.\n",
        "\n",
        "  Args:\n",
        "    q (ndarray): an array of action values\n",
        "    epsilon (float): probability of selecting an action randomly\n",
        "\n",
        "  Returns:\n",
        "    int: the chosen action\n",
        "  \"\"\"\n",
        "  be_greedy = np.random.random() > epsilon\n",
        "  if be_greedy:\n",
        "    action = np.argmax(q)\n",
        "  else:\n",
        "    action = np.random.choice(len(q))\n",
        "\n",
        "  return action\n",
        "\n",
        "\n",
        "def q_learning(state, action, reward, next_state, value, params):\n",
        "  \"\"\"Q-learning: updates the value function and returns it.\n",
        "\n",
        "  Args:\n",
        "    state (int): the current state identifier\n",
        "    action (int): the action taken\n",
        "    reward (float): the reward received\n",
        "    next_state (int): the transitioned to state identifier\n",
        "    value (ndarray): current value function of shape (n_states, n_actions)\n",
        "    params (dict): a dictionary containing the default parameters\n",
        "\n",
        "  Returns:\n",
        "    ndarray: the updated value function of shape (n_states, n_actions)\n",
        "  \"\"\"\n",
        "  # value of previous state-action pair\n",
        "  prev_value = value[int(state), int(action)]\n",
        "\n",
        "  # maximum Q-value at current state\n",
        "  if next_state is None or np.isnan(next_state):\n",
        "      max_value = 0\n",
        "  else:\n",
        "      max_value = np.max(value[int(next_state)])\n",
        "\n",
        "  # reward prediction error\n",
        "  delta = reward + params['gamma'] * max_value - prev_value\n",
        "\n",
        "  # update value of previous state-action pair\n",
        "  value[int(state), int(action)] = prev_value + params['alpha'] * delta\n",
        "\n",
        "  return value\n",
        "\n",
        "\n",
        "def learn_environment(env, model_updater, planner, params, max_steps,\n",
        "                      n_episodes, shortcut_episode=None):\n",
        "  # Start with a uniform value function\n",
        "  value = np.ones((env.n_states, env.n_actions))\n",
        "\n",
        "  # Run learning\n",
        "  reward_sums = np.zeros(n_episodes)\n",
        "  episode_steps = np.zeros(n_episodes)\n",
        "\n",
        "  # Dyna-Q state\n",
        "  model = np.nan*np.zeros((env.n_states, env.n_actions, 2))\n",
        "\n",
        "  # Loop over episodes\n",
        "  for episode in range(n_episodes):\n",
        "    if shortcut_episode is not None and episode == shortcut_episode:\n",
        "      env.toggle_shortcut()\n",
        "      state = 64\n",
        "      action = 1\n",
        "      next_state, reward = env.get_outcome(state, action)\n",
        "      model[state, action] = reward, next_state\n",
        "      value = q_learning(state, action, reward, next_state, value, params)\n",
        "\n",
        "\n",
        "    state = env.init_state  # initialize state\n",
        "    reward_sum = 0\n",
        "\n",
        "    for t in range(max_steps):\n",
        "      # choose next action\n",
        "      action = epsilon_greedy(value[state], params['epsilon'])\n",
        "\n",
        "      # observe outcome of action on environment\n",
        "      next_state, reward = env.get_outcome(state, action)\n",
        "\n",
        "      # sum rewards obtained\n",
        "      reward_sum += reward\n",
        "\n",
        "      # update value function\n",
        "      value = q_learning(state, action, reward, next_state, value, params)\n",
        "\n",
        "      # update model\n",
        "      model = model_updater(model, state, action, reward, next_state)\n",
        "      # execute planner\n",
        "      value = planner(model, value, params)\n",
        "\n",
        "      if next_state is None:\n",
        "        break  # episode ends\n",
        "      state = next_state\n",
        "\n",
        "    reward_sums[episode] = reward_sum\n",
        "    episode_steps[episode] = t+1\n",
        "\n",
        "  return value, reward_sums, episode_steps\n",
        "\n",
        "\n",
        "class world(object):\n",
        "    def __init__(self):\n",
        "        return\n",
        "\n",
        "    def get_outcome(self):\n",
        "        print(\"Abstract method, not implemented\")\n",
        "        return\n",
        "\n",
        "    def get_all_outcomes(self):\n",
        "        outcomes = {}\n",
        "        for state in range(self.n_states):\n",
        "            for action in range(self.n_actions):\n",
        "                next_state, reward = self.get_outcome(state, action)\n",
        "                outcomes[state, action] = [(1, next_state, reward)]\n",
        "        return outcomes\n",
        "\n",
        "class QuentinsWorld(world):\n",
        "    \"\"\"\n",
        "    World: Quentin's world.\n",
        "    100 states (10-by-10 grid world).\n",
        "    The mapping from state to the grid is as follows:\n",
        "    90 ...       99\n",
        "    ...\n",
        "    40 ...       49\n",
        "    30 ...       39\n",
        "    20 21 22 ... 29\n",
        "    10 11 12 ... 19\n",
        "    0  1  2  ...  9\n",
        "    54 is the start state.\n",
        "    Actions 0, 1, 2, 3 correspond to right, up, left, down.\n",
        "    Moving anywhere from state 99 (goal state) will end the session.\n",
        "    Landing in red states incurs a reward of -1.\n",
        "    Landing in the goal state (99) gets a reward of 1.\n",
        "    Going towards the border when already at the border will stay in the same\n",
        "        place.\n",
        "    \"\"\"\n",
        "    def __init__(self):\n",
        "        self.name = \"QuentinsWorld\"\n",
        "        self.n_states = 100\n",
        "        self.n_actions = 4\n",
        "        self.dim_x = 10\n",
        "        self.dim_y = 10\n",
        "        self.init_state = 54\n",
        "        self.shortcut_state = 64\n",
        "\n",
        "    def toggle_shortcut(self):\n",
        "      if self.shortcut_state == 64:\n",
        "        self.shortcut_state = 2\n",
        "      else:\n",
        "        self.shortcut_state = 64\n",
        "\n",
        "    def get_outcome(self, state, action):\n",
        "        if state == 99:  # goal state\n",
        "            reward = 0\n",
        "            next_state = None\n",
        "            return next_state, reward\n",
        "        reward = 0  # default reward value\n",
        "        if action == 0:  # move right\n",
        "            next_state = state + 1\n",
        "            if state == 98:  # next state is goal state\n",
        "                reward = 1\n",
        "            elif state % 10 == 9:  # right border\n",
        "                next_state = state\n",
        "            elif state in [11, 21, 31, 41, 51, 61, 71,\n",
        "                           12, 72,\n",
        "                           73,\n",
        "                           14, 74,\n",
        "                           15, 25, 35, 45, 55, 65, 75]:  # next state is red\n",
        "                reward = -1\n",
        "        elif action == 1:  # move up\n",
        "            next_state = state + 10\n",
        "            if state == 89:  # next state is goal state\n",
        "                reward = 1\n",
        "            if state >= 90:  # top border\n",
        "                next_state = state\n",
        "            elif state in [2, 12, 22, 32, 42, 52, 62,\n",
        "                           3, 63,\n",
        "                           self.shortcut_state,\n",
        "                           5, 65,\n",
        "                           6, 16, 26, 36, 46, 56, 66]:  # next state is red\n",
        "                reward = -1\n",
        "        elif action == 2:  # move left\n",
        "            next_state = state - 1\n",
        "            if state % 10 == 0:  # left border\n",
        "                next_state = state\n",
        "            elif state in [17, 27, 37, 47, 57, 67, 77,\n",
        "                           16, 76,\n",
        "                           75,\n",
        "                           14, 74,\n",
        "                           13, 23, 33, 43, 53, 63, 73]:  # next state is red\n",
        "                reward = -1\n",
        "        elif action == 3:  # move down\n",
        "            next_state = state - 10\n",
        "            if state <= 9:  # bottom border\n",
        "                next_state = state\n",
        "            elif state in [22, 32, 42, 52, 62, 72, 82,\n",
        "                           23, 83,\n",
        "                           84,\n",
        "                           25, 85,\n",
        "                           26, 36, 46, 56, 66, 76, 86]:  # next state is red\n",
        "                reward = -1\n",
        "        else:\n",
        "            print(\"Action must be between 0 and 3.\")\n",
        "            next_state = None\n",
        "            reward = None\n",
        "        return int(next_state) if next_state is not None else None, reward\n",
        "\n",
        "\n",
        "# HELPER FUNCTIONS FOR PLOTTING\n",
        "\n",
        "def plot_state_action_values(env, value, ax=None):\n",
        "  \"\"\"\n",
        "  Generate plot showing value of each action at each state.\n",
        "  \"\"\"\n",
        "  if ax is None:\n",
        "    fig, ax = plt.subplots()\n",
        "\n",
        "  for a in range(env.n_actions):\n",
        "    ax.plot(range(env.n_states), value[:, a], marker='o', linestyle='--')\n",
        "  ax.set(xlabel='States', ylabel='Values')\n",
        "  ax.legend(['R','U','L','D'], loc='lower right')\n",
        "\n",
        "\n",
        "def plot_quiver_max_action(env, value, ax=None):\n",
        "  \"\"\"\n",
        "  Generate plot showing action of maximum value or maximum probability at\n",
        "    each state (not for n-armed bandit or cheese_world).\n",
        "  \"\"\"\n",
        "  if ax is None:\n",
        "    fig, ax = plt.subplots()\n",
        "\n",
        "  X = np.tile(np.arange(env.dim_x), [env.dim_y,1]) + 0.5\n",
        "  Y = np.tile(np.arange(env.dim_y)[::-1][:,np.newaxis], [1,env.dim_x]) + 0.5\n",
        "  which_max = np.reshape(value.argmax(axis=1), (env.dim_y,env.dim_x))\n",
        "  which_max = which_max[::-1,:]\n",
        "  U = np.zeros(X.shape)\n",
        "  V = np.zeros(X.shape)\n",
        "  U[which_max == 0] = 1\n",
        "  V[which_max == 1] = 1\n",
        "  U[which_max == 2] = -1\n",
        "  V[which_max == 3] = -1\n",
        "\n",
        "  ax.quiver(X, Y, U, V)\n",
        "  ax.set(\n",
        "      title='Maximum value/probability actions',\n",
        "      xlim=[-0.5, env.dim_x+0.5],\n",
        "      ylim=[-0.5, env.dim_y+0.5],\n",
        "  )\n",
        "  ax.set_xticks(np.linspace(0.5, env.dim_x-0.5, num=env.dim_x))\n",
        "  ax.set_xticklabels([\"%d\" % x for x in np.arange(env.dim_x)])\n",
        "  ax.set_xticks(np.arange(env.dim_x+1), minor=True)\n",
        "  ax.set_yticks(np.linspace(0.5, env.dim_y-0.5, num=env.dim_y))\n",
        "  ax.set_yticklabels([\"%d\" % y for y in np.arange(0, env.dim_y*env.dim_x, env.dim_x)])\n",
        "  ax.set_yticks(np.arange(env.dim_y+1), minor=True)\n",
        "  ax.grid(which='minor',linestyle='-')\n",
        "\n",
        "\n",
        "def plot_heatmap_max_val(env, value, ax=None):\n",
        "  \"\"\"\n",
        "  Generate heatmap showing maximum value at each state\n",
        "  \"\"\"\n",
        "  if ax is None:\n",
        "    fig, ax = plt.subplots()\n",
        "\n",
        "  if value.ndim == 1:\n",
        "      value_max = np.reshape(value, (env.dim_y,env.dim_x))\n",
        "  else:\n",
        "      value_max = np.reshape(value.max(axis=1), (env.dim_y,env.dim_x))\n",
        "  value_max = value_max[::-1,:]\n",
        "\n",
        "  im = ax.imshow(value_max, aspect='auto', interpolation='none', cmap='afmhot')\n",
        "  ax.set(title='Maximum value per state')\n",
        "  ax.set_xticks(np.linspace(0, env.dim_x-1, num=env.dim_x))\n",
        "  ax.set_xticklabels([\"%d\" % x for x in np.arange(env.dim_x)])\n",
        "  ax.set_yticks(np.linspace(0, env.dim_y-1, num=env.dim_y))\n",
        "  if env.name != 'windy_cliff_grid':\n",
        "      ax.set_yticklabels(\n",
        "          [\"%d\" % y for y in np.arange(\n",
        "              0, env.dim_y*env.dim_x, env.dim_x)][::-1])\n",
        "  return im\n",
        "\n",
        "\n",
        "def plot_rewards(n_episodes, rewards, average_range=10, ax=None):\n",
        "  \"\"\"\n",
        "  Generate plot showing total reward accumulated in each episode.\n",
        "  \"\"\"\n",
        "  if ax is None:\n",
        "    fig, ax = plt.subplots()\n",
        "\n",
        "  smoothed_rewards = (conv(rewards, np.ones(average_range), mode='same')\n",
        "                      / average_range)\n",
        "\n",
        "  ax.plot(range(0, n_episodes, average_range),\n",
        "          smoothed_rewards[0:n_episodes:average_range],\n",
        "          marker='o', linestyle='--')\n",
        "  ax.set(xlabel='Episodes', ylabel='Total reward')\n",
        "\n",
        "\n",
        "def plot_performance(env, value, reward_sums):\n",
        "  fig, axes = plt.subplots(nrows=2, ncols=2, figsize=(16, 12))\n",
        "  plot_state_action_values(env, value, ax=axes[0,0])\n",
        "  plot_quiver_max_action(env, value, ax=axes[0,1])\n",
        "  plot_rewards(n_episodes, reward_sums, ax=axes[1,0])\n",
        "  im = plot_heatmap_max_val(env, value, ax=axes[1,1])\n",
        "  fig.colorbar(im)"
      ],
      "execution_count": null,
      "outputs": []
    },
    {
      "cell_type": "markdown",
      "metadata": {
        "id": "N6Rxw_5xTgSB"
      },
      "source": [
        "---\n",
        "\n",
        "## Section 1: Model-based RL"
      ]
    },
    {
      "cell_type": "code",
      "metadata": {
        "cellView": "form",
        "colab": {
          "base_uri": "https://localhost:8080/",
          "height": 518
        },
        "id": "4rIxHCTmTgSB",
        "outputId": "fdee6f01-9587-4ee3-a685-d29a1d42553d"
      },
      "source": [
        "#@title Video 1: Model-based RL\n",
        "# Insert the ID of the corresponding youtube video\n",
        "from IPython.display import YouTubeVideo\n",
        "video = YouTubeVideo(id=\"zT_legTotF0\", width=854, height=480, fs=1)\n",
        "print(\"Video available at https://youtu.be/\" + video.id)\n",
        "video"
      ],
      "execution_count": null,
      "outputs": [
        {
          "output_type": "stream",
          "text": [
            "Video available at https://youtu.be/zT_legTotF0\n"
          ],
          "name": "stdout"
        },
        {
          "output_type": "execute_result",
          "data": {
            "text/html": [
              "\n",
              "        <iframe\n",
              "            width=\"854\"\n",
              "            height=\"480\"\n",
              "            src=\"https://www.youtube.com/embed/zT_legTotF0?fs=1\"\n",
              "            frameborder=\"0\"\n",
              "            allowfullscreen\n",
              "        ></iframe>\n",
              "        "
            ],
            "text/plain": [
              "<IPython.lib.display.YouTubeVideo at 0x7f826abe54e0>"
            ],
            "image/jpeg": "[encoded data removed]"
          },
          "metadata": {
            "tags": []
          },
          "execution_count": 4
        }
      ]
    },
    {
      "cell_type": "markdown",
      "metadata": {
        "id": "Xz_lycWzTgSB"
      },
      "source": [
        "The algorithms introduced in the previous tutorials are all *model-free*, as they do not require a model to use or control behavior. In this section, we will study a different class of algorithms called model-based. As we will see next, in contrast to model-free RL, model-based methods use a model to build a policy.\n",
        "\n",
        "But what is a model? A model (sometimes called a world model or internal model) is a representation of how the world will respond to the agent's actions. You can think of it as a representation of how the world *works*. With such a representation, the agent can simulate new experiences and learn from these simulations. This is advantageous for two reasons. First, acting in the real world can be costly and sometimes even dangerous: remember Cliff World from Tutorial 3? Learning from simulated experience can avoid some of these costs or risks. Second, simulations make fuller use of one's limited experience. To see why, imagine an agent interacting with the real world. The information acquired with each individual action can only be assimilated at the moment of the interaction. In contrast, the experiences simulated from a model can be simulated multiple times -- and whenever desired -- allowing for the information to be more fully assimilated."
      ]
    },
    {
      "cell_type": "markdown",
      "metadata": {
        "id": "PC592bAkTgSB"
      },
      "source": [
        "### Section 1.1 Quentin's World Environment\n",
        "\n",
        "In this tutorial, our RL agent will act in the Quentin's world, a 10x10 grid world. \n",
        "\n",
        "<img alt=\"QuentinsWorld\" width=\"560\" height=\"560\" src=\"https://github.com/NeuromatchAcademy/course-content/blob/master/tutorials/W2D5_ReinforcementLearning/static/W2D5_Tutorial4_QuentinsWorld.png?raw=true\">\n",
        "\n",
        "In this environment, there are 100 states and 4 possible actions: right, up, left, and down. The goal of the agent is to move, via a series of steps, from the start (green) location to the goal (yellow) region, while avoiding the red walls. More specifically:\n",
        "* The agent starts in the green state,\n",
        "* Moving into one of the red states incurs a reward of -1,\n",
        "* Moving into the world borders stays in the same place,\n",
        "* Moving into the goal state (yellow square in the upper right corner) gives you a reward of 1, and\n",
        "* Moving anywhere from the goal state ends the episode.\n",
        "\n",
        "Now that we have our environment and task defined, how can we solve this using a model-based RL agent?"
      ]
    },
    {
      "cell_type": "markdown",
      "metadata": {
        "id": "I6fOtEXUTgSC"
      },
      "source": [
        "---\n",
        "## Section 2: Dyna-Q\n",
        "\n",
        "In this section, we will implement Dyna-Q, one of the simplest model-based reinforcement learning algorithms. A Dyna-Q agent combines acting, learning, and planning. The first two components -- acting and learning -- are just like what we have studied previously. Q-learning, for example, learns by acting in the world, and therefore combines acting and learning. But a Dyna-Q agent also implements planning, or simulating experiences from a model--and learns from them. \n",
        "\n",
        "In theory, one can think of a Dyna-Q agent as implementing acting, learning, and planning simultaneously, at all times. But, in practice, one needs to specify the algorithm as a sequence of steps. The most common way in which the Dyna-Q agent is implemented is by adding a planning routine to a Q-learning agent: after the agent acts in the real world and learns from the observed experience, the agent is allowed a series of $k$ *planning steps*. At each one of those $k$ planning steps, the model generates a simulated experience by randomly sampling from the history of all previously experienced state-action pairs. The agent then learns from this simulated experience, again using the same Q-learning rule that you implemented for learning from real experience. This simulated experience is simply a one-step transition, i.e., a state, an action, and the resulting state and reward. So, in practice, a Dyna-Q agent learns (via Q-learning) from one step of **real** experience during acting, and then from k steps of **simulated** experience during planning.\n",
        "\n",
        "There's one final detail about this algorithm: where does the simulated experiences come from or, in other words, what is the \"model\"? In Dyna-Q, as the agent interacts with the environment, the agent also learns the model. For simplicity, Dyna-Q implements model-learning in an almost trivial way, as simply caching the results of each transition. Thus, after each one-step transition in the environment, the agent saves the results of this transition in a big matrix, and consults that matrix during each of the planning steps. Obviously, this model-learning strategy only makes sense if the world is deterministic (so that each state-action pair always leads to the same state and reward), and this is the setting of the exercise below. However, even this simple setting can already highlight one of Dyna-Q major strengths: the fact that the planning is done at the same time as the agent interacts with the environment, which means that new information gained from the interaction may change the model and thereby interact with planning in potentially interesting ways.\n",
        "\n"
      ]
    },
    {
      "cell_type": "markdown",
      "metadata": {
        "id": "Io9gJ1uVTgSC"
      },
      "source": [
        "Since you already implemented Q-learning in the previous tutorial, we will focus here on the extensions new to Dyna-Q: the model update step and the planning step. For reference, here's the Dyna-Q algorithm that you will help implement:"
      ]
    },
    {
      "cell_type": "markdown",
      "metadata": {
        "id": "2sw7CCB4TgSC"
      },
      "source": [
        "---\n",
        "**TABULAR DYNA-Q**\n",
        "\n",
        "Initialize $Q(s,a)$ and $Model(s,a)$ for all $s \\in S$ and $a \\in A$.\n",
        "\n",
        "Loop forever:\n",
        "\n",
        "> (a) $S$ &larr; current (nonterminal) state <br>\n",
        "> (b) $A$ &larr; $\\epsilon$-greedy$(S,Q)$ <br>\n",
        "> (c) Take action $A$; observe resultant reward, $R$, and state, $S'$ <br>\n",
        "> (d) $Q(S,A)$ &larr; $Q(S,A) + \\alpha \\left[R + \\gamma \\max_{a} Q(S',a) - Q(S,A)\\right]$ <br>\n",
        "> (e) $Model(S,A)$ &larr; $R,S'$ (assuming deterministic environment) <br>\n",
        "> (f) Loop repeat $k$ times: <br>\n",
        ">> $S$ &larr; random previously observed state <br>\n",
        ">> $A$ &larr; random action previously taken in $S$ <br>\n",
        ">> $R,S'$ &larr; $Model(S,A)$ <br>\n",
        ">> $Q(S,A)$ &larr; $Q(S,A) + \\alpha \\left[R + \\gamma \\max_{a} Q(S',a) - Q(S,A)\\right]$ <br>\n",
        "\n",
        "\n",
        "---"
      ]
    },
    {
      "cell_type": "markdown",
      "metadata": {
        "id": "tNwUNwApTgSC"
      },
      "source": [
        "### Exercise 1: Dyna-Q Model Update\n",
        "\n",
        "In this exercise you will implement the model update portion of the Dyna-Q algorithm. More specifically, after each action that the agent executes in the world, we need to update our model to remember what reward and next state we last experienced for the given state-action pair."
      ]
    },
    {
      "cell_type": "code",
      "metadata": {
        "id": "_j2mkV07TgSD"
      },
      "source": [
        "def dyna_q_model_update(model, state, action, reward, next_state):\n",
        "  \"\"\" Dyna-Q model update\n",
        "\n",
        "  Args:\n",
        "    model (ndarray): An array of shape (n_states, n_actions, 2) that represents\n",
        "                     the model of the world i.e. what reward and next state do\n",
        "                     we expect from taking an action in a state.\n",
        "    state (int): the current state identifier\n",
        "    action (int): the action taken\n",
        "    reward (float): the reward received\n",
        "    next_state (int): the transitioned to state identifier\n",
        "\n",
        "  Returns:\n",
        "    ndarray: the updated model\n",
        "  \"\"\"\n",
        "  ###############################################################\n",
        "  ## TODO for students: implement the model update step of Dyna-Q\n",
        "  # Fill out function and remove\n",
        "  raise NotImplementedError(\"Student exercise: implement the model update step of Dyna-Q\")\n",
        "  ###############################################################\n",
        "  # Update our model with the observed reward and next state\n",
        "  model[...] = ...\n",
        "\n",
        "  return model"
      ],
      "execution_count": null,
      "outputs": []
    },
    {
      "cell_type": "markdown",
      "metadata": {
        "id": "H6PzLAeaTgSD"
      },
      "source": [
        "Now that we have a way to update our model, we can use it in the planning phase of Dyna-Q to simulate past experiences."
      ]
    },
    {
      "cell_type": "markdown",
      "metadata": {
        "id": "WSh2UokiTgSD"
      },
      "source": [
        "### Exercise 2: Dyna-Q Planning\n",
        "\n",
        "In this exercise you will implement the other key part of Dyna-Q: planning. We will sample a random state-action pair from those we've experienced, use our model to simulate the experience of taking that action in that state, and update our value function using Q-learning with these simulated state, action, reward, and next state outcomes. Furthermore, we want to run this planning step $k$ times, which can be obtained from `params['k']`.\n",
        "\n",
        "For this exercise, you may use the `q_learning` function to handle the Q-learning value function update. Recall that the method signature is `q_learning(state, action, reward, next_state, value, params)` and it returns the updated `value` table."
      ]
    },
    {
      "cell_type": "code",
      "metadata": {
        "id": "D_qLufzyTgSE"
      },
      "source": [
        "def dyna_q_planning(model, value, params):\n",
        "  \"\"\" Dyna-Q planning\n",
        "\n",
        "  Args:\n",
        "    model (ndarray): An array of shape (n_states, n_actions, 2) that represents\n",
        "                     the model of the world i.e. what reward and next state do\n",
        "                     we expect from taking an action in a state.\n",
        "    value (ndarray): current value function of shape (n_states, n_actions)\n",
        "    params (dict): a dictionary containing learning parameters\n",
        "\n",
        "  Returns:\n",
        "    ndarray: the updated value function of shape (n_states, n_actions)\n",
        "  \"\"\"\n",
        "  ############################################################\n",
        "  ## TODO for students: implement the planning step of Dyna-Q\n",
        "  # Fill out function and remove\n",
        "  raise NotImplementedError(\"Student exercise: implement the planning step of Dyna-Q\")\n",
        "  #############################################################\n",
        "  # Perform k additional updates at random (planning)\n",
        "  for _ in range(...):\n",
        "    # Find state-action combinations for which we've experienced a reward i.e.\n",
        "    # the reward value is not NaN. The outcome of this expression is an Nx2\n",
        "    # matrix, where each row is a state and action value, respectively.\n",
        "    candidates = np.array(np.where(~np.isnan(model[:,:,0]))).T\n",
        "\n",
        "    # Write an expression for selecting a random row index from our candidates\n",
        "    idx = ...\n",
        "\n",
        "    # Obtain the randomly selected state and action values from the candidates\n",
        "    state, action = ...\n",
        "\n",
        "    # Obtain the expected reward and next state from the model\n",
        "    reward, next_state = ...\n",
        "\n",
        "    # Update the value function using Q-learning\n",
        "    value = ...\n",
        "\n",
        "  return value"
      ],
      "execution_count": null,
      "outputs": []
    },
    {
      "cell_type": "markdown",
      "metadata": {
        "id": "rQNqakzlTgSE"
      },
      "source": [
        "With a way to update our model and a means to use it in planning, it is time to see it in action. The following code sets up the our agent parameters and learning environment, then passes your model update and planning methods to the agent to try and solve Quentin's World. Notice that we set the number of planning steps $k=10$."
      ]
    },
    {
      "cell_type": "code",
      "metadata": {
        "id": "BdQkQNw-TgSE"
      },
      "source": [
        "# set for reproducibility, comment out / change seed value for different results\n",
        "np.random.seed(1)\n",
        "\n",
        "# parameters needed by our policy and learning rule\n",
        "params = {\n",
        "  'epsilon': 0.05,  # epsilon-greedy policy\n",
        "  'alpha': 0.5,  # learning rate\n",
        "  'gamma': 0.8,  # temporal discount factor\n",
        "  'k': 10,  # number of Dyna-Q planning steps\n",
        "}\n",
        "\n",
        "# episodes/trials\n",
        "n_episodes = 500\n",
        "max_steps = 1000\n",
        "\n",
        "# environment initialization\n",
        "env = QuentinsWorld()\n",
        "\n",
        "# solve Quentin's World using Dyna-Q\n",
        "results = learn_environment(env, dyna_q_model_update, dyna_q_planning,\n",
        "                            params, max_steps, n_episodes)\n",
        "value, reward_sums, episode_steps = results\n",
        "\n",
        "plot_performance(env, value, reward_sums)"
      ],
      "execution_count": null,
      "outputs": []
    },
    {
      "cell_type": "markdown",
      "metadata": {
        "id": "LNQDUxmZTgSF"
      },
      "source": [
        "Upon completion, we should see that our Dyna-Q agent is able to solve the task quite quickly, achieving a consistent positive reward after only a limited number of episodes (bottom left)."
      ]
    },
    {
      "cell_type": "markdown",
      "metadata": {
        "id": "4Om4U69STgSF"
      },
      "source": [
        "---\n",
        "## Section 3: How much to plan?\n",
        "\n",
        "Now that you implemented a Dyna-Q agent with $k=10$, we will try to understand the effect of planning on performance. How does changing the value of $k$ impact our agent's ability to learn?\n",
        "\n",
        "The following code is similar to what we just ran, only this time we run several experiments over several different values of $k$ to see how their average performance compares. In particular, we will choose $k \\in \\{0, 1, 10, 100\\}$. Pay special attention to the case where $k = 0$ which corresponds to no planning. This is, in effect, just regular Q-learning.\n",
        "\n",
        "The following code will take a bit of time to complete. To speed things up, try lowering the number of experiments or the number of $k$ values to compare."
      ]
    },
    {
      "cell_type": "code",
      "metadata": {
        "id": "BfkDoc8WTgSF"
      },
      "source": [
        "# set for reproducibility, comment out / change seed value for different results\n",
        "np.random.seed(1)\n",
        "\n",
        "# parameters needed by our policy and learning rule\n",
        "params = {\n",
        "  'epsilon': 0.05,  # epsilon-greedy policy\n",
        "  'alpha': 0.5,  # learning rate\n",
        "  'gamma': 0.8,  # temporal discount factor\n",
        "}\n",
        "\n",
        "# episodes/trials\n",
        "n_experiments = 10\n",
        "n_episodes = 100\n",
        "max_steps = 1000\n",
        "\n",
        "# number of planning steps\n",
        "planning_steps = np.array([0, 1, 10, 100])\n",
        "\n",
        "# environment initialization\n",
        "env = QuentinsWorld()\n",
        "\n",
        "steps_per_episode = np.zeros((len(planning_steps), n_experiments, n_episodes))\n",
        "\n",
        "for i, k in enumerate(planning_steps):\n",
        "  params['k'] = k\n",
        "  for experiment in range(n_experiments):\n",
        "    results = learn_environment(env, dyna_q_model_update, dyna_q_planning,\n",
        "                                params, max_steps, n_episodes)\n",
        "    steps_per_episode[i, experiment] = results[2]\n",
        "\n",
        "# Average across experiments\n",
        "steps_per_episode = np.mean(steps_per_episode, axis=1)\n",
        "\n",
        "# Plot results\n",
        "fig, ax = plt.subplots()\n",
        "ax.plot(steps_per_episode.T)\n",
        "ax.set(xlabel='Episodes', ylabel='Steps per episode',\n",
        "       xlim=[20, None], ylim=[0, 160])\n",
        "ax.legend(planning_steps, loc='upper right', title=\"Planning steps\");"
      ],
      "execution_count": null,
      "outputs": []
    },
    {
      "cell_type": "markdown",
      "metadata": {
        "id": "lv73jNPjTgSF"
      },
      "source": [
        "After an initial warm-up phase of the first 20 episodes, we should see that the number of planning steps has a noticable impact on our agent's ability to rapidly solve the environment. We should also notice that after a certain value of $k$ our relative utility goes down, so it's important to balance a large enough value of $k$ that helps us learn quickly without wasting too much time in planning."
      ]
    },
    {
      "cell_type": "markdown",
      "metadata": {
        "id": "TN95L3oFTgSG"
      },
      "source": [
        "---\n",
        "## Section 4: When the world changes...\n",
        "\n",
        "In addition to speeding up learning about a new environment, planning can also help the agent to quickly incorporate new information about the environment into its policy. Thus, if the environment changes (e.g. the rules governing the transitions between states, or the rewards associated with each state/action), the agent doesn't need to experience that change *repeatedly* (as would be required in a Q-learning agent) in real experience. Instead, planning allows that change to be incorporated quickly into the agent's policy, without the need to experience the change more than once.\n",
        "\n",
        "In this final section, we will again have our agents attempt to solve Quentin's World. However, after 200 episodes, a shortcut will appear in the environment.  We will test how a model-free agent using Q-learning and a Dyna-Q agent adapt to this change in the environment.\n",
        "\n",
        "<img alt=\"QuentinsWorldShortcut\" width=\"560\" height=\"560\" src=\"https://github.com/NeuromatchAcademy/course-content/blob/master/tutorials/W2D5_ReinforcementLearning/static/W2D5_Tutorial4_QuentinsWorldShortcut.png?raw=true\">\n",
        "\n"
      ]
    },
    {
      "cell_type": "markdown",
      "metadata": {
        "id": "RAzZfb6xTgSG"
      },
      "source": [
        "The following code again looks similar to what we've run previously. Just as above we will have multiple values for $k$, with $k=0$ representing our Q-learning agent and $k=10$ for our Dyna-Q agent with 10 planning steps. The main difference is we now add in an indicator as to when the shortcut appears. In particular, we will run the agents for 400 episodes, with the shortcut appearing in the middle after episode #200.\n",
        "\n",
        "When this shortcut appears we will also let each agent experience this change once i.e. we will evaluate the act of moving upwards when in the state that is below the now-open shortcut. After this single demonstration, the agents will continue on interacting in the environment.\n"
      ]
    },
    {
      "cell_type": "code",
      "metadata": {
        "id": "LO1LfIleTgSG"
      },
      "source": [
        "# set for reproducibility, comment out / change seed value for different results\n",
        "np.random.seed(1)\n",
        "\n",
        "# parameters needed by our policy and learning rule\n",
        "params = {\n",
        "  'epsilon': 0.05,  # epsilon-greedy policy\n",
        "  'alpha': 0.5,  # learning rate\n",
        "  'gamma': 0.8,  # temporal discount factor\n",
        "}\n",
        "\n",
        "# episodes/trials\n",
        "n_episodes = 400\n",
        "max_steps = 1000\n",
        "shortcut_episode = 200  # when we introduce the shortcut\n",
        "\n",
        "# number of planning steps\n",
        "planning_steps = np.array([0, 10]) # Q-learning, Dyna-Q (k=10)\n",
        "\n",
        "# environment initialization\n",
        "steps_per_episode = np.zeros((len(planning_steps), n_episodes))\n",
        "\n",
        "# Solve Quentin's World using Q-learning and Dyna-Q\n",
        "for i, k in enumerate(planning_steps):\n",
        "  env = QuentinsWorld()\n",
        "  params['k'] = k\n",
        "  results = learn_environment(env, dyna_q_model_update, dyna_q_planning,\n",
        "                              params, max_steps, n_episodes,\n",
        "                              shortcut_episode=shortcut_episode)\n",
        "  steps_per_episode[i] = results[2]\n",
        "\n",
        "\n",
        "# Plot results\n",
        "fig, ax = plt.subplots()\n",
        "ax.plot(steps_per_episode.T)\n",
        "ax.set(xlabel='Episode', ylabel='Steps per Episode',\n",
        "       xlim=[20,None], ylim=[0, 160])\n",
        "ax.axvline(shortcut_episode, linestyle=\"--\", color='gray', label=\"Shortcut appears\")\n",
        "ax.legend(('Q-learning', 'Dyna-Q', 'Shortcut appears'),\n",
        "          loc='upper right');"
      ],
      "execution_count": null,
      "outputs": []
    },
    {
      "cell_type": "markdown",
      "metadata": {
        "id": "SabIho8DTgSG"
      },
      "source": [
        "If all went well, we should see the Dyna-Q agent having already achieved near optimal performance before the appearance of the shortcut and then immediately incorporating this new information to further improve. In this case, the Q-learning agent takes much longer to fully incorporate the new shortcut."
      ]
    },
    {
      "cell_type": "markdown",
      "metadata": {
        "id": "rvp-8-oHTgSH"
      },
      "source": [
        "---\n",
        "## Summary\n",
        "\n",
        "In this notebook, you have learned about model-based reinforcement learning and implemented one of the simplest architectures of this type, Dyna-Q. Dyna-Q is very much like Q-learning, but instead of learning only from real experience, you also learn from **simulated** experience. This small difference, however, can have huge benefits! Planning *frees* the agent from the limitation of its own environment, and this in turn allows the agent to speed-up learning -- for instance, effectively incorporating environmental changes into one's policy.\n",
        "\n",
        "Not surprisingly, model-based RL is an active area of research in machine learning. Some of the exciting topics in the frontier of the field involve (i) learning and representing a complex world model (i.e., beyond the tabular and deterministic case above), and (ii) what to simulate -- also known as search control -- (i.e., beyond the random selection of experiences implemented above).\n",
        "\n",
        "The framework above has also been used in neuroscience to explain various phenomena such as planning, memory sampling, memory consolidation, and even dreaming!"
      ]
    }
  ]
}